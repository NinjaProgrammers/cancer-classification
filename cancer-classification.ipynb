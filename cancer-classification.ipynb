{
 "cells": [
  {
   "cell_type": "markdown",
   "id": "3d93d294",
   "metadata": {},
   "source": [
    "# Proyecto Final de Inteligencia Artificial\n",
    "## Redes convolucionales para clasificar dos tipos de cancer no melanomatoso\n",
    "\n"
   ]
  },
  {
   "cell_type": "markdown",
   "id": "2d718768",
   "metadata": {},
   "source": [
    "##### Imports"
   ]
  },
  {
   "cell_type": "code",
   "execution_count": 1,
   "id": "b5ce73e7",
   "metadata": {
    "scrolled": true
   },
   "outputs": [
    {
     "name": "stderr",
     "output_type": "stream",
     "text": [
      "2022-06-28 22:43:43.546056: W tensorflow/stream_executor/platform/default/dso_loader.cc:64] Could not load dynamic library 'libcudart.so.11.0'; dlerror: libcudart.so.11.0: cannot open shared object file: No such file or directory\n",
      "2022-06-28 22:43:43.546166: I tensorflow/stream_executor/cuda/cudart_stub.cc:29] Ignore above cudart dlerror if you do not have a GPU set up on your machine.\n"
     ]
    }
   ],
   "source": [
    "import os\n",
    "import json\n",
    "\n",
    "import numpy as np\n",
    "import tensorflow as tf\n",
    "import matplotlib.pyplot as plt\n",
    "import pandas as pd\n",
    "\n",
    "from keras import layers\n",
    "from keras import models\n",
    "from keras.models import load_model\n",
    "from tensorflow.keras import optimizers\n",
    "from keras.applications.vgg16 import VGG16 \n",
    "from tensorflow.keras.preprocessing.image import ImageDataGenerator\n",
    "\n",
    "from sklearn.model_selection import StratifiedKFold"
   ]
  },
  {
   "cell_type": "markdown",
   "id": "1bef198d",
   "metadata": {},
   "source": [
    "#### Utils"
   ]
  },
  {
   "cell_type": "code",
   "execution_count": 2,
   "id": "dcf2647b",
   "metadata": {},
   "outputs": [],
   "source": [
    "def save_dict_as_json(data, file_name):\n",
    "    with open(file_name + \".json\", \"w\") as fp:\n",
    "        json.dump(data,fp, indent = 4) "
   ]
  },
  {
   "cell_type": "markdown",
   "id": "93de2de5",
   "metadata": {},
   "source": [
    "##### Show validation and accuracy measures"
   ]
  },
  {
   "cell_type": "code",
   "execution_count": 3,
   "id": "d5ce655f",
   "metadata": {},
   "outputs": [],
   "source": [
    "def show_accuracies(histories):\n",
    "    for history in histories:\n",
    "        acc = history.history['acc']\n",
    "        val_acc = history.history['val_acc']\n",
    "        loss = history.history['loss']\n",
    "        val_loss = history.history['val_loss']\n",
    "        print(\"Accuracy: \", np.mean(acc), \"Validation Accuracy: \", np.mean(val_acc), \"\\n\",\n",
    "              \"Loss: \", np.mean(loss), \"Validation Loss: \",np.mean(val_loss), \"\\n\")"
   ]
  },
  {
   "cell_type": "markdown",
   "id": "aa4732d7",
   "metadata": {},
   "source": [
    "##### Plot training and validation graphics"
   ]
  },
  {
   "cell_type": "code",
   "execution_count": 4,
   "id": "4a242aad",
   "metadata": {},
   "outputs": [],
   "source": [
    "def plot_graphs(history, smooth = False):\n",
    "    \n",
    "    def smooth_curve(points, factor=0.8):\n",
    "        smoothed_points = []\n",
    "        for point in points:\n",
    "            if smoothed_points:\n",
    "                previous = smoothed_points[-1]\n",
    "                smoothed_points.append(previous * factor + point * (1 - factor))\n",
    "            else:\n",
    "                smoothed_points.append(point)\n",
    "        return smoothed_points\n",
    "   \n",
    "    acc = smooth_curve(history['acc']) if smooth else history['acc']\n",
    "    val_acc = smooth_curve(history['val_acc']) if smooth else history['val_acc']\n",
    "    loss = smooth_curve(history['loss']) if smooth else history['loss']\n",
    "    val_loss = smooth_curve(history['val_loss']) if smooth else history['val_loss']\n",
    "    epochs = range(1, len(acc) + 1)\n",
    "\n",
    "    plt.plot(epochs, acc, 'bo', label='Training acc')\n",
    "    plt.plot(epochs, val_acc, 'b', label='Validation acc')\n",
    "    plt.title('Training and validation accuracy')\n",
    "    plt.legend()\n",
    "    \n",
    "    plt.figure()\n",
    "    plt.plot(epochs, loss, 'bo', label='Training loss')\n",
    "    plt.plot(epochs, val_loss, 'b', label='Validation loss')\n",
    "    plt.title('Training and validation loss')\n",
    "    plt.legend()\n",
    "    plt.show()\n",
    "    \n",
    "    "
   ]
  },
  {
   "cell_type": "markdown",
   "id": "b9163802",
   "metadata": {},
   "source": [
    "### Construyendo el modelo\n",
    "\n",
    "Modelo para entrenamiento end-to-end con 4 capas convolucionales alternando con capas de MaxPooling.\n",
    "Para el clasificador se utiliza una capa Flatten seguida de dos capas totalmente conectadas."
   ]
  },
  {
   "cell_type": "markdown",
   "id": "49fc067c",
   "metadata": {},
   "source": [
    "##### Data global variables"
   ]
  },
  {
   "cell_type": "code",
   "execution_count": 38,
   "id": "c32ba52b",
   "metadata": {},
   "outputs": [],
   "source": [
    "original_dataset_directory = 'images'\n",
    "\n",
    "base_directory = 'database'\n",
    "\n",
    "train_dir = os.path.join(base_directory, 'train')\n",
    "test_dir = os.path.join(base_directory, 'test')\n",
    "test_data = os.listdir(test_dir)\n",
    "\n",
    "train_basal_dir = os.path.join(train_dir, 'basal')\n",
    "train_basal_data = os.listdir(train_basal_dir)\n",
    "train_basal_labels = [\"basal\" for _ in range(len(train_basal_data))]\n",
    "train_squamous_dir = os.path.join(train_dir, 'squamous')\n",
    "train_squamous_data = os.listdir(train_squamous_dir)\n",
    "train_squamous_labels = [\"squamous\" for _ in range(len(train_squamous_data))]\n",
    "\n",
    "train_data = [os.path.join(train_basal_dir,item) for item in train_basal_data]\n",
    "train_data += [os.path.join(train_squamous_dir,item) for item in train_squamous_data]\n",
    "train_labels = train_basal_labels + train_squamous_labels\n",
    "\n",
    "test_basal_dir = os.path.join(test_dir, 'basal')\n",
    "test_squamous_dir = os.path.join(test_dir, 'squamous')"
   ]
  },
  {
   "cell_type": "markdown",
   "id": "fb08bf6a",
   "metadata": {},
   "source": [
    "##### Database information"
   ]
  },
  {
   "cell_type": "code",
   "execution_count": 39,
   "id": "4443ab23",
   "metadata": {},
   "outputs": [
    {
     "name": "stdout",
     "output_type": "stream",
     "text": [
      "Total training basal cell carcinoma images: 1031\n",
      "Total training squamous cell carcinoma images: 450\n",
      "Total test basal cell carcinoma images: 516\n",
      "Total test squamous cell carcinoma images: 225\n"
     ]
    }
   ],
   "source": [
    "print('Total training basal cell carcinoma images:', len(os.listdir(train_basal_dir)))\n",
    "print('Total training squamous cell carcinoma images:', len(os.listdir(train_squamous_dir)))\n",
    "print('Total test basal cell carcinoma images:', len(os.listdir(test_basal_dir)))\n",
    "print('Total test squamous cell carcinoma images:', len(os.listdir(test_squamous_dir)))"
   ]
  },
  {
   "cell_type": "code",
   "execution_count": 42,
   "id": "cacf94a4",
   "metadata": {},
   "outputs": [],
   "source": [
    "def build_scratch_model():\n",
    "    model = models.Sequential()\n",
    "    model.add(layers.Conv2D(32, (3, 3), activation='relu', input_shape=(224, 224, 3)))\n",
    "    model.add(layers.MaxPooling2D((2, 2)))\n",
    "    model.add(layers.Conv2D(64, (3, 3), activation='relu'))\n",
    "    model.add(layers.MaxPooling2D((2, 2)))\n",
    "    model.add(layers.Conv2D(128, (3, 3), activation='relu'))\n",
    "    model.add(layers.MaxPooling2D((2, 2)))\n",
    "    model.add(layers.Conv2D(256, (3, 3), activation='relu'))\n",
    "    model.add(layers.MaxPooling2D((2, 2)))\n",
    "    model.add(layers.Flatten())\n",
    "    model.add(layers.Dense(512, activation='relu'))\n",
    "    model.add(layers.Dense(1, activation='sigmoid'))\n",
    "    model.compile(loss='binary_crossentropy',optimizer=optimizers.RMSprop(learning_rate=1e-4), metrics=['acc'])\n",
    "    return model"
   ]
  },
  {
   "cell_type": "code",
   "execution_count": 43,
   "id": "08cd739b",
   "metadata": {},
   "outputs": [
    {
     "name": "stdout",
     "output_type": "stream",
     "text": [
      "Model: \"sequential_3\"\n",
      "_________________________________________________________________\n",
      " Layer (type)                Output Shape              Param #   \n",
      "=================================================================\n",
      " conv2d_8 (Conv2D)           (None, 222, 222, 32)      896       \n",
      "                                                                 \n",
      " max_pooling2d_8 (MaxPooling  (None, 111, 111, 32)     0         \n",
      " 2D)                                                             \n",
      "                                                                 \n",
      " conv2d_9 (Conv2D)           (None, 109, 109, 64)      18496     \n",
      "                                                                 \n",
      " max_pooling2d_9 (MaxPooling  (None, 54, 54, 64)       0         \n",
      " 2D)                                                             \n",
      "                                                                 \n",
      " conv2d_10 (Conv2D)          (None, 52, 52, 128)       73856     \n",
      "                                                                 \n",
      " max_pooling2d_10 (MaxPoolin  (None, 26, 26, 128)      0         \n",
      " g2D)                                                            \n",
      "                                                                 \n",
      " conv2d_11 (Conv2D)          (None, 24, 24, 256)       295168    \n",
      "                                                                 \n",
      " max_pooling2d_11 (MaxPoolin  (None, 12, 12, 256)      0         \n",
      " g2D)                                                            \n",
      "                                                                 \n",
      " flatten_3 (Flatten)         (None, 36864)             0         \n",
      "                                                                 \n",
      " dense_6 (Dense)             (None, 512)               18874880  \n",
      "                                                                 \n",
      " dense_7 (Dense)             (None, 1)                 513       \n",
      "                                                                 \n",
      "=================================================================\n",
      "Total params: 19,263,809\n",
      "Trainable params: 19,263,809\n",
      "Non-trainable params: 0\n",
      "_________________________________________________________________\n"
     ]
    }
   ],
   "source": [
    "model = build_scratch_model()\n",
    "model.summary()"
   ]
  },
  {
   "cell_type": "markdown",
   "id": "6a3cf5f3",
   "metadata": {},
   "source": [
    "Convertir las imagenes de valores en el rango [0-255] al rango [0-1]"
   ]
  },
  {
   "cell_type": "code",
   "execution_count": 44,
   "id": "8e45783b",
   "metadata": {},
   "outputs": [],
   "source": [
    "train_datagen = ImageDataGenerator(rescale=1./255)\n",
    "test_datagen = ImageDataGenerator(rescale=1./255)"
   ]
  },
  {
   "cell_type": "markdown",
   "id": "57951351",
   "metadata": {},
   "source": [
    "##### K-Fold validation\n",
    "\n",
    "Debido a la poca cantidad de imágenes se utiliza la técnica K-Fold. En este caso como las imágenes de cada clase están desbalanceadas resulta mejor utilizar Stratified K-Fold, que logra mantener una cantidad similar de clases en cada fold."
   ]
  },
  {
   "cell_type": "code",
   "execution_count": 45,
   "id": "ed92d766",
   "metadata": {},
   "outputs": [],
   "source": [
    "skfold = StratifiedKFold(n_splits = 5, random_state = 7, shuffle = True) "
   ]
  },
  {
   "cell_type": "code",
   "execution_count": 46,
   "id": "8f48c95e",
   "metadata": {},
   "outputs": [
    {
     "name": "stdout",
     "output_type": "stream",
     "text": [
      "Processing fold:  1\n",
      "Found 1184 validated image filenames belonging to 2 classes.\n",
      "Found 297 validated image filenames belonging to 2 classes.\n",
      "Epoch 1/40\n",
      "148/148 [==============================] - 110s 736ms/step - loss: 0.6298 - acc: 0.6892 - val_loss: 0.6134 - val_acc: 0.6970\n",
      "Epoch 2/40\n",
      "148/148 [==============================] - 109s 741ms/step - loss: 0.6237 - acc: 0.6959 - val_loss: 0.6375 - val_acc: 0.6970\n",
      "Epoch 3/40\n",
      "148/148 [==============================] - 108s 729ms/step - loss: 0.6096 - acc: 0.6959 - val_loss: 0.6173 - val_acc: 0.6970\n",
      "Epoch 4/40\n",
      "148/148 [==============================] - 112s 757ms/step - loss: 0.6088 - acc: 0.7019 - val_loss: 0.6166 - val_acc: 0.6700\n",
      "Epoch 5/40\n",
      "148/148 [==============================] - 117s 792ms/step - loss: 0.6002 - acc: 0.6959 - val_loss: 0.6172 - val_acc: 0.6970\n",
      "Epoch 6/40\n",
      "148/148 [==============================] - 114s 768ms/step - loss: 0.5965 - acc: 0.7095 - val_loss: 0.6170 - val_acc: 0.6734\n",
      "Epoch 7/40\n",
      "148/148 [==============================] - 108s 732ms/step - loss: 0.5848 - acc: 0.7145 - val_loss: 0.6489 - val_acc: 0.6936\n",
      "Epoch 8/40\n",
      "148/148 [==============================] - 112s 759ms/step - loss: 0.5673 - acc: 0.7213 - val_loss: 0.6293 - val_acc: 0.6498\n",
      "Epoch 9/40\n",
      "148/148 [==============================] - 108s 731ms/step - loss: 0.5596 - acc: 0.7162 - val_loss: 0.6105 - val_acc: 0.6801\n",
      "Epoch 10/40\n",
      "148/148 [==============================] - 109s 736ms/step - loss: 0.5388 - acc: 0.7280 - val_loss: 0.6086 - val_acc: 0.7037\n",
      "Epoch 11/40\n",
      "148/148 [==============================] - 109s 738ms/step - loss: 0.5182 - acc: 0.7365 - val_loss: 0.6409 - val_acc: 0.7104\n",
      "Epoch 12/40\n",
      "148/148 [==============================] - 114s 771ms/step - loss: 0.5089 - acc: 0.7508 - val_loss: 0.6039 - val_acc: 0.7239\n",
      "Epoch 13/40\n",
      "148/148 [==============================] - 113s 761ms/step - loss: 0.4906 - acc: 0.7703 - val_loss: 0.6350 - val_acc: 0.7104\n",
      "Epoch 14/40\n",
      "148/148 [==============================] - 118s 797ms/step - loss: 0.4675 - acc: 0.7770 - val_loss: 0.5983 - val_acc: 0.7104\n",
      "Epoch 15/40\n",
      "148/148 [==============================] - 120s 809ms/step - loss: 0.4585 - acc: 0.7821 - val_loss: 0.6474 - val_acc: 0.7273\n",
      "Epoch 16/40\n",
      "148/148 [==============================] - 111s 748ms/step - loss: 0.4282 - acc: 0.8007 - val_loss: 0.7351 - val_acc: 0.7306\n",
      "Epoch 17/40\n",
      "148/148 [==============================] - 111s 753ms/step - loss: 0.4162 - acc: 0.8193 - val_loss: 0.6420 - val_acc: 0.6869\n",
      "Epoch 18/40\n",
      "148/148 [==============================] - 112s 754ms/step - loss: 0.3982 - acc: 0.8100 - val_loss: 0.7546 - val_acc: 0.6667\n",
      "Epoch 19/40\n",
      "148/148 [==============================] - 112s 755ms/step - loss: 0.3852 - acc: 0.8277 - val_loss: 0.6752 - val_acc: 0.7205\n",
      "Epoch 20/40\n",
      "148/148 [==============================] - 112s 753ms/step - loss: 0.3600 - acc: 0.8429 - val_loss: 0.6642 - val_acc: 0.6667\n",
      "Epoch 21/40\n",
      "148/148 [==============================] - 33797s 230s/step - loss: 0.3353 - acc: 0.8649 - val_loss: 0.8355 - val_acc: 0.7071\n",
      "Epoch 22/40\n",
      "148/148 [==============================] - 78s 528ms/step - loss: 0.3206 - acc: 0.8623 - val_loss: 0.7421 - val_acc: 0.6700\n",
      "Epoch 23/40\n",
      "148/148 [==============================] - 75s 506ms/step - loss: 0.2949 - acc: 0.8708 - val_loss: 0.7982 - val_acc: 0.7138\n",
      "Epoch 24/40\n",
      "148/148 [==============================] - 77s 521ms/step - loss: 0.2797 - acc: 0.8834 - val_loss: 0.8302 - val_acc: 0.6835\n",
      "Epoch 25/40\n",
      "148/148 [==============================] - 83s 559ms/step - loss: 0.2516 - acc: 0.8978 - val_loss: 0.9625 - val_acc: 0.7003\n",
      "Epoch 26/40\n",
      "148/148 [==============================] - 79s 535ms/step - loss: 0.2313 - acc: 0.9139 - val_loss: 1.0263 - val_acc: 0.7172\n",
      "Epoch 27/40\n",
      "148/148 [==============================] - 80s 537ms/step - loss: 0.2050 - acc: 0.9155 - val_loss: 1.0607 - val_acc: 0.6835\n",
      "Epoch 28/40\n",
      "148/148 [==============================] - 80s 539ms/step - loss: 0.1829 - acc: 0.9291 - val_loss: 1.0675 - val_acc: 0.6869\n",
      "Epoch 29/40\n",
      "148/148 [==============================] - 81s 550ms/step - loss: 0.1880 - acc: 0.9333 - val_loss: 1.1021 - val_acc: 0.6801\n",
      "Epoch 30/40\n",
      "148/148 [==============================] - 80s 544ms/step - loss: 0.1491 - acc: 0.9459 - val_loss: 1.4971 - val_acc: 0.6936\n",
      "Epoch 31/40\n",
      "148/148 [==============================] - 80s 537ms/step - loss: 0.1405 - acc: 0.9527 - val_loss: 1.2008 - val_acc: 0.7172\n",
      "Epoch 32/40\n",
      "148/148 [==============================] - 80s 538ms/step - loss: 0.1312 - acc: 0.9544 - val_loss: 1.3929 - val_acc: 0.7037\n",
      "Epoch 33/40\n",
      "148/148 [==============================] - 80s 543ms/step - loss: 0.1084 - acc: 0.9662 - val_loss: 1.4817 - val_acc: 0.7138\n",
      "Epoch 34/40\n",
      "148/148 [==============================] - 80s 541ms/step - loss: 0.0970 - acc: 0.9662 - val_loss: 1.4076 - val_acc: 0.6970\n",
      "Epoch 35/40\n",
      "148/148 [==============================] - 86s 583ms/step - loss: 0.0856 - acc: 0.9747 - val_loss: 1.7355 - val_acc: 0.6936\n",
      "Epoch 36/40\n",
      "148/148 [==============================] - 100s 673ms/step - loss: 0.0806 - acc: 0.9721 - val_loss: 1.7060 - val_acc: 0.7003\n",
      "Epoch 37/40\n",
      "148/148 [==============================] - 80s 541ms/step - loss: 0.0661 - acc: 0.9772 - val_loss: 1.5559 - val_acc: 0.7138\n",
      "Epoch 38/40\n",
      "148/148 [==============================] - 81s 551ms/step - loss: 0.0835 - acc: 0.9772 - val_loss: 1.7614 - val_acc: 0.6869\n",
      "Epoch 39/40\n",
      "148/148 [==============================] - 79s 537ms/step - loss: 0.0571 - acc: 0.9747 - val_loss: 1.7426 - val_acc: 0.7071\n",
      "Epoch 40/40\n",
      "148/148 [==============================] - 80s 540ms/step - loss: 0.0457 - acc: 0.9856 - val_loss: 2.0359 - val_acc: 0.6936\n",
      "Processing fold:  2\n",
      "Found 1185 validated image filenames belonging to 2 classes.\n",
      "Found 296 validated image filenames belonging to 2 classes.\n",
      "Epoch 1/40\n",
      "149/149 [==============================] - 79s 525ms/step - loss: 0.6272 - acc: 0.6911 - val_loss: 0.6180 - val_acc: 0.6959\n",
      "Epoch 2/40\n",
      "149/149 [==============================] - 78s 524ms/step - loss: 0.6251 - acc: 0.6962 - val_loss: 0.6256 - val_acc: 0.6959\n",
      "Epoch 3/40\n",
      "149/149 [==============================] - 79s 529ms/step - loss: 0.6190 - acc: 0.6962 - val_loss: 0.6196 - val_acc: 0.6959\n",
      "Epoch 4/40\n",
      "149/149 [==============================] - 79s 531ms/step - loss: 0.6167 - acc: 0.6962 - val_loss: 0.5982 - val_acc: 0.6959\n",
      "Epoch 5/40\n",
      "149/149 [==============================] - 80s 534ms/step - loss: 0.5990 - acc: 0.7030 - val_loss: 0.6211 - val_acc: 0.6993\n",
      "Epoch 6/40\n",
      "149/149 [==============================] - 79s 532ms/step - loss: 0.5869 - acc: 0.7063 - val_loss: 0.6420 - val_acc: 0.6351\n",
      "Epoch 7/40\n",
      "149/149 [==============================] - 80s 534ms/step - loss: 0.5815 - acc: 0.7105 - val_loss: 0.6323 - val_acc: 0.6486\n",
      "Epoch 8/40\n",
      "149/149 [==============================] - 79s 532ms/step - loss: 0.5647 - acc: 0.7114 - val_loss: 0.6621 - val_acc: 0.6926\n",
      "Epoch 9/40\n",
      "149/149 [==============================] - 80s 534ms/step - loss: 0.5512 - acc: 0.7122 - val_loss: 0.6109 - val_acc: 0.6892\n",
      "Epoch 10/40\n",
      "149/149 [==============================] - 79s 531ms/step - loss: 0.5490 - acc: 0.7401 - val_loss: 0.6059 - val_acc: 0.6757\n",
      "Epoch 11/40\n",
      "149/149 [==============================] - 79s 528ms/step - loss: 0.5243 - acc: 0.7426 - val_loss: 0.5756 - val_acc: 0.6959\n",
      "Epoch 12/40\n",
      "149/149 [==============================] - 80s 535ms/step - loss: 0.5110 - acc: 0.7561 - val_loss: 0.5732 - val_acc: 0.7027\n",
      "Epoch 13/40\n",
      "149/149 [==============================] - 79s 528ms/step - loss: 0.4921 - acc: 0.7679 - val_loss: 0.6395 - val_acc: 0.6959\n",
      "Epoch 14/40\n",
      "149/149 [==============================] - 79s 532ms/step - loss: 0.4766 - acc: 0.7806 - val_loss: 0.6594 - val_acc: 0.6824\n",
      "Epoch 15/40\n",
      "149/149 [==============================] - 78s 526ms/step - loss: 0.4698 - acc: 0.7823 - val_loss: 0.7032 - val_acc: 0.6926\n",
      "Epoch 16/40\n",
      "149/149 [==============================] - 79s 533ms/step - loss: 0.4468 - acc: 0.7840 - val_loss: 0.6984 - val_acc: 0.6892\n",
      "Epoch 17/40\n",
      "149/149 [==============================] - 79s 530ms/step - loss: 0.4314 - acc: 0.8042 - val_loss: 1.1527 - val_acc: 0.7162\n",
      "Epoch 18/40\n",
      "149/149 [==============================] - 79s 531ms/step - loss: 0.4161 - acc: 0.8160 - val_loss: 0.6846 - val_acc: 0.6723\n",
      "Epoch 19/40\n",
      "149/149 [==============================] - 80s 538ms/step - loss: 0.3981 - acc: 0.8211 - val_loss: 0.6999 - val_acc: 0.6993\n",
      "Epoch 20/40\n",
      "149/149 [==============================] - 80s 539ms/step - loss: 0.3835 - acc: 0.8312 - val_loss: 0.6693 - val_acc: 0.7095\n",
      "Epoch 21/40\n",
      "149/149 [==============================] - 79s 530ms/step - loss: 0.3643 - acc: 0.8380 - val_loss: 0.7633 - val_acc: 0.6993\n",
      "Epoch 22/40\n",
      "149/149 [==============================] - 80s 535ms/step - loss: 0.3477 - acc: 0.8523 - val_loss: 0.7295 - val_acc: 0.6824\n",
      "Epoch 23/40\n",
      "149/149 [==============================] - 84s 562ms/step - loss: 0.3176 - acc: 0.8667 - val_loss: 0.9156 - val_acc: 0.7027\n",
      "Epoch 24/40\n",
      "149/149 [==============================] - 80s 537ms/step - loss: 0.3017 - acc: 0.8667 - val_loss: 0.7867 - val_acc: 0.6959\n",
      "Epoch 25/40\n",
      "149/149 [==============================] - 80s 534ms/step - loss: 0.2857 - acc: 0.8920 - val_loss: 0.7526 - val_acc: 0.6993\n",
      "Epoch 26/40\n",
      "149/149 [==============================] - 84s 561ms/step - loss: 0.2641 - acc: 0.8937 - val_loss: 0.8022 - val_acc: 0.6858\n",
      "Epoch 27/40\n",
      "149/149 [==============================] - 85s 569ms/step - loss: 0.2335 - acc: 0.9122 - val_loss: 0.8017 - val_acc: 0.7196\n",
      "Epoch 28/40\n",
      "149/149 [==============================] - 80s 537ms/step - loss: 0.2153 - acc: 0.9156 - val_loss: 0.9812 - val_acc: 0.6993\n",
      "Epoch 29/40\n",
      "149/149 [==============================] - 83s 560ms/step - loss: 0.1949 - acc: 0.9207 - val_loss: 0.8578 - val_acc: 0.6858\n",
      "Epoch 30/40\n",
      "149/149 [==============================] - 96s 641ms/step - loss: 0.1818 - acc: 0.9316 - val_loss: 1.1099 - val_acc: 0.6689\n",
      "Epoch 31/40\n",
      "149/149 [==============================] - 90s 606ms/step - loss: 0.1716 - acc: 0.9443 - val_loss: 1.1924 - val_acc: 0.7128\n",
      "Epoch 32/40\n",
      "149/149 [==============================] - 90s 602ms/step - loss: 0.1484 - acc: 0.9451 - val_loss: 1.0270 - val_acc: 0.7230\n",
      "Epoch 33/40\n",
      "149/149 [==============================] - 83s 560ms/step - loss: 0.1330 - acc: 0.9561 - val_loss: 1.2989 - val_acc: 0.6926\n",
      "Epoch 34/40\n",
      "149/149 [==============================] - 80s 535ms/step - loss: 0.1108 - acc: 0.9620 - val_loss: 1.3078 - val_acc: 0.6892\n",
      "Epoch 35/40\n",
      "149/149 [==============================] - 79s 529ms/step - loss: 0.0979 - acc: 0.9654 - val_loss: 1.5847 - val_acc: 0.7027\n",
      "Epoch 36/40\n",
      "149/149 [==============================] - 86s 578ms/step - loss: 0.1102 - acc: 0.9578 - val_loss: 1.5998 - val_acc: 0.6993\n",
      "Epoch 37/40\n",
      "149/149 [==============================] - 87s 581ms/step - loss: 0.0704 - acc: 0.9789 - val_loss: 1.4100 - val_acc: 0.7365\n",
      "Epoch 38/40\n",
      "149/149 [==============================] - 80s 539ms/step - loss: 0.0790 - acc: 0.9764 - val_loss: 1.6503 - val_acc: 0.6959\n",
      "Epoch 39/40\n",
      "149/149 [==============================] - 82s 549ms/step - loss: 0.0652 - acc: 0.9772 - val_loss: 1.6274 - val_acc: 0.6858\n",
      "Epoch 40/40\n",
      "149/149 [==============================] - 83s 554ms/step - loss: 0.0636 - acc: 0.9831 - val_loss: 1.7124 - val_acc: 0.7095\n",
      "Processing fold:  3\n",
      "Found 1185 validated image filenames belonging to 2 classes.\n",
      "Found 296 validated image filenames belonging to 2 classes.\n",
      "Epoch 1/40\n",
      "149/149 [==============================] - 81s 540ms/step - loss: 0.6413 - acc: 0.6962 - val_loss: 0.6289 - val_acc: 0.6959\n",
      "Epoch 2/40\n",
      "149/149 [==============================] - 78s 521ms/step - loss: 0.6244 - acc: 0.6928 - val_loss: 0.6284 - val_acc: 0.6959\n",
      "Epoch 3/40\n",
      "149/149 [==============================] - 80s 539ms/step - loss: 0.6163 - acc: 0.6987 - val_loss: 0.6580 - val_acc: 0.6959\n",
      "Epoch 4/40\n",
      "149/149 [==============================] - 79s 533ms/step - loss: 0.6051 - acc: 0.6979 - val_loss: 0.6337 - val_acc: 0.6824\n",
      "Epoch 5/40\n",
      "149/149 [==============================] - 79s 527ms/step - loss: 0.5956 - acc: 0.6970 - val_loss: 0.6252 - val_acc: 0.6791\n",
      "Epoch 6/40\n",
      "149/149 [==============================] - 91s 611ms/step - loss: 0.5802 - acc: 0.7063 - val_loss: 0.6994 - val_acc: 0.6791\n",
      "Epoch 7/40\n",
      "149/149 [==============================] - 103s 691ms/step - loss: 0.5695 - acc: 0.7266 - val_loss: 0.6354 - val_acc: 0.6926\n",
      "Epoch 8/40\n",
      "149/149 [==============================] - 110s 740ms/step - loss: 0.5562 - acc: 0.7300 - val_loss: 0.7433 - val_acc: 0.6791\n",
      "Epoch 9/40\n",
      "149/149 [==============================] - 85s 571ms/step - loss: 0.5386 - acc: 0.7308 - val_loss: 0.6853 - val_acc: 0.7027\n",
      "Epoch 10/40\n",
      "149/149 [==============================] - 92s 617ms/step - loss: 0.5276 - acc: 0.7266 - val_loss: 0.6878 - val_acc: 0.6791\n",
      "Epoch 11/40\n",
      "149/149 [==============================] - 87s 581ms/step - loss: 0.5203 - acc: 0.7561 - val_loss: 0.7018 - val_acc: 0.6892\n",
      "Epoch 12/40\n",
      "149/149 [==============================] - 85s 568ms/step - loss: 0.4991 - acc: 0.7595 - val_loss: 0.6302 - val_acc: 0.6655\n",
      "Epoch 13/40\n",
      "149/149 [==============================] - 98s 659ms/step - loss: 0.4767 - acc: 0.7755 - val_loss: 0.7150 - val_acc: 0.6959\n",
      "Epoch 14/40\n",
      "149/149 [==============================] - 97s 653ms/step - loss: 0.4590 - acc: 0.7840 - val_loss: 0.7735 - val_acc: 0.6655\n",
      "Epoch 15/40\n",
      "149/149 [==============================] - 89s 596ms/step - loss: 0.4600 - acc: 0.7840 - val_loss: 0.6721 - val_acc: 0.6723\n",
      "Epoch 16/40\n",
      "149/149 [==============================] - 87s 586ms/step - loss: 0.4282 - acc: 0.7857 - val_loss: 0.7145 - val_acc: 0.6655\n",
      "Epoch 17/40\n",
      "149/149 [==============================] - 89s 597ms/step - loss: 0.4170 - acc: 0.8135 - val_loss: 0.7181 - val_acc: 0.6791\n",
      "Epoch 18/40\n",
      "149/149 [==============================] - 87s 582ms/step - loss: 0.3891 - acc: 0.8245 - val_loss: 0.7135 - val_acc: 0.6791\n",
      "Epoch 19/40\n",
      "149/149 [==============================] - 85s 569ms/step - loss: 0.3646 - acc: 0.8304 - val_loss: 0.9808 - val_acc: 0.6149\n",
      "Epoch 20/40\n",
      "149/149 [==============================] - 83s 558ms/step - loss: 0.3619 - acc: 0.8489 - val_loss: 0.7793 - val_acc: 0.6791\n",
      "Epoch 21/40\n",
      "149/149 [==============================] - 82s 551ms/step - loss: 0.3366 - acc: 0.8599 - val_loss: 1.0210 - val_acc: 0.6284\n",
      "Epoch 22/40\n",
      "149/149 [==============================] - 83s 557ms/step - loss: 0.3355 - acc: 0.8515 - val_loss: 0.8524 - val_acc: 0.6723\n",
      "Epoch 23/40\n",
      "149/149 [==============================] - 86s 575ms/step - loss: 0.2911 - acc: 0.8709 - val_loss: 0.9396 - val_acc: 0.6453\n",
      "Epoch 24/40\n",
      "149/149 [==============================] - 84s 563ms/step - loss: 0.2825 - acc: 0.8810 - val_loss: 1.0976 - val_acc: 0.6824\n",
      "Epoch 25/40\n",
      "149/149 [==============================] - 84s 564ms/step - loss: 0.2753 - acc: 0.8878 - val_loss: 1.2379 - val_acc: 0.5270\n",
      "Epoch 26/40\n",
      "149/149 [==============================] - 85s 568ms/step - loss: 0.2414 - acc: 0.9063 - val_loss: 1.0070 - val_acc: 0.7027\n",
      "Epoch 27/40\n",
      "149/149 [==============================] - 82s 550ms/step - loss: 0.2339 - acc: 0.8954 - val_loss: 1.2640 - val_acc: 0.6723\n",
      "Epoch 28/40\n",
      "149/149 [==============================] - 84s 563ms/step - loss: 0.2186 - acc: 0.9156 - val_loss: 1.1716 - val_acc: 0.6149\n",
      "Epoch 29/40\n",
      "149/149 [==============================] - 86s 574ms/step - loss: 0.1802 - acc: 0.9325 - val_loss: 1.4916 - val_acc: 0.6723\n",
      "Epoch 30/40\n",
      "149/149 [==============================] - 89s 598ms/step - loss: 0.1697 - acc: 0.9342 - val_loss: 1.5403 - val_acc: 0.6959\n",
      "Epoch 31/40\n",
      "149/149 [==============================] - 84s 565ms/step - loss: 0.1628 - acc: 0.9376 - val_loss: 1.4651 - val_acc: 0.6554\n",
      "Epoch 32/40\n",
      "149/149 [==============================] - 85s 573ms/step - loss: 0.1556 - acc: 0.9451 - val_loss: 1.4224 - val_acc: 0.6453\n",
      "Epoch 33/40\n",
      "149/149 [==============================] - 83s 556ms/step - loss: 0.1163 - acc: 0.9578 - val_loss: 1.7245 - val_acc: 0.6453\n",
      "Epoch 34/40\n",
      "149/149 [==============================] - 85s 571ms/step - loss: 0.1246 - acc: 0.9536 - val_loss: 1.5887 - val_acc: 0.6351\n",
      "Epoch 35/40\n",
      "149/149 [==============================] - 83s 555ms/step - loss: 0.0953 - acc: 0.9637 - val_loss: 2.0892 - val_acc: 0.6047\n",
      "Epoch 36/40\n",
      "149/149 [==============================] - 82s 552ms/step - loss: 0.0977 - acc: 0.9662 - val_loss: 2.0928 - val_acc: 0.6622\n",
      "Epoch 37/40\n",
      "149/149 [==============================] - 83s 555ms/step - loss: 0.0783 - acc: 0.9814 - val_loss: 2.2156 - val_acc: 0.5676\n",
      "Epoch 38/40\n"
     ]
    },
    {
     "name": "stdout",
     "output_type": "stream",
     "text": [
      "149/149 [==============================] - 82s 549ms/step - loss: 0.0752 - acc: 0.9747 - val_loss: 2.2295 - val_acc: 0.6351\n",
      "Epoch 39/40\n",
      "149/149 [==============================] - 85s 570ms/step - loss: 0.0544 - acc: 0.9831 - val_loss: 2.6173 - val_acc: 0.6486\n",
      "Epoch 40/40\n",
      "149/149 [==============================] - 86s 575ms/step - loss: 0.0536 - acc: 0.9840 - val_loss: 2.3586 - val_acc: 0.6757\n",
      "Processing fold:  4\n",
      "Found 1185 validated image filenames belonging to 2 classes.\n",
      "Found 296 validated image filenames belonging to 2 classes.\n",
      "Epoch 1/40\n",
      "149/149 [==============================] - 84s 560ms/step - loss: 0.6378 - acc: 0.6928 - val_loss: 0.6137 - val_acc: 0.6959\n",
      "Epoch 2/40\n",
      "149/149 [==============================] - 83s 559ms/step - loss: 0.6290 - acc: 0.6962 - val_loss: 0.6110 - val_acc: 0.6959\n",
      "Epoch 3/40\n",
      "149/149 [==============================] - 82s 549ms/step - loss: 0.6305 - acc: 0.6920 - val_loss: 0.6113 - val_acc: 0.6959\n",
      "Epoch 4/40\n",
      "149/149 [==============================] - 83s 560ms/step - loss: 0.6270 - acc: 0.6962 - val_loss: 0.6091 - val_acc: 0.6959\n",
      "Epoch 5/40\n",
      "149/149 [==============================] - 91s 610ms/step - loss: 0.6219 - acc: 0.6962 - val_loss: 0.5994 - val_acc: 0.6959\n",
      "Epoch 6/40\n",
      "149/149 [==============================] - 96s 645ms/step - loss: 0.6080 - acc: 0.6979 - val_loss: 0.5960 - val_acc: 0.6959\n",
      "Epoch 7/40\n",
      "149/149 [==============================] - 97s 653ms/step - loss: 0.6075 - acc: 0.6945 - val_loss: 0.5820 - val_acc: 0.6993\n",
      "Epoch 8/40\n",
      "149/149 [==============================] - 109s 728ms/step - loss: 0.5894 - acc: 0.7013 - val_loss: 0.5679 - val_acc: 0.6926\n",
      "Epoch 9/40\n",
      "149/149 [==============================] - 102s 688ms/step - loss: 0.5885 - acc: 0.7156 - val_loss: 0.5858 - val_acc: 0.6993\n",
      "Epoch 10/40\n",
      "149/149 [==============================] - 94s 634ms/step - loss: 0.5711 - acc: 0.7232 - val_loss: 0.5632 - val_acc: 0.7128\n",
      "Epoch 11/40\n",
      "149/149 [==============================] - 100s 673ms/step - loss: 0.5582 - acc: 0.7181 - val_loss: 0.5653 - val_acc: 0.7128\n",
      "Epoch 12/40\n",
      "149/149 [==============================] - 99s 667ms/step - loss: 0.5364 - acc: 0.7392 - val_loss: 0.5641 - val_acc: 0.7061\n",
      "Epoch 13/40\n",
      "149/149 [==============================] - 90s 602ms/step - loss: 0.5328 - acc: 0.7418 - val_loss: 0.5937 - val_acc: 0.6892\n",
      "Epoch 14/40\n",
      "149/149 [==============================] - 81s 545ms/step - loss: 0.5179 - acc: 0.7451 - val_loss: 0.5742 - val_acc: 0.7297\n",
      "Epoch 15/40\n",
      "149/149 [==============================] - 90s 606ms/step - loss: 0.5004 - acc: 0.7553 - val_loss: 0.7564 - val_acc: 0.7095\n",
      "Epoch 16/40\n",
      "149/149 [==============================] - 93s 622ms/step - loss: 0.4822 - acc: 0.7646 - val_loss: 0.5720 - val_acc: 0.7196\n",
      "Epoch 17/40\n",
      "149/149 [==============================] - 93s 621ms/step - loss: 0.4656 - acc: 0.7958 - val_loss: 0.8026 - val_acc: 0.7061\n",
      "Epoch 18/40\n",
      "149/149 [==============================] - 92s 616ms/step - loss: 0.4487 - acc: 0.7899 - val_loss: 0.8738 - val_acc: 0.6993\n",
      "Epoch 19/40\n",
      "149/149 [==============================] - 86s 580ms/step - loss: 0.4336 - acc: 0.7966 - val_loss: 0.6370 - val_acc: 0.6892\n",
      "Epoch 20/40\n",
      "149/149 [==============================] - 89s 595ms/step - loss: 0.4185 - acc: 0.8025 - val_loss: 0.6203 - val_acc: 0.6926\n",
      "Epoch 21/40\n",
      "149/149 [==============================] - 83s 556ms/step - loss: 0.3921 - acc: 0.8287 - val_loss: 0.6708 - val_acc: 0.6892\n",
      "Epoch 22/40\n",
      "149/149 [==============================] - 82s 552ms/step - loss: 0.3678 - acc: 0.8312 - val_loss: 0.7840 - val_acc: 0.6453\n",
      "Epoch 23/40\n",
      "149/149 [==============================] - 79s 530ms/step - loss: 0.3579 - acc: 0.8388 - val_loss: 0.6871 - val_acc: 0.7128\n",
      "Epoch 24/40\n",
      "149/149 [==============================] - 78s 525ms/step - loss: 0.3254 - acc: 0.8515 - val_loss: 1.0259 - val_acc: 0.7027\n",
      "Epoch 25/40\n",
      "149/149 [==============================] - 89s 595ms/step - loss: 0.3068 - acc: 0.8616 - val_loss: 0.7348 - val_acc: 0.7061\n",
      "Epoch 26/40\n",
      "149/149 [==============================] - 90s 603ms/step - loss: 0.2856 - acc: 0.8793 - val_loss: 0.7250 - val_acc: 0.7128\n",
      "Epoch 27/40\n",
      "149/149 [==============================] - 85s 567ms/step - loss: 0.2626 - acc: 0.8852 - val_loss: 0.7542 - val_acc: 0.6926\n",
      "Epoch 28/40\n",
      "149/149 [==============================] - 87s 585ms/step - loss: 0.2386 - acc: 0.9030 - val_loss: 0.9198 - val_acc: 0.7128\n",
      "Epoch 29/40\n",
      "149/149 [==============================] - 84s 565ms/step - loss: 0.2260 - acc: 0.9089 - val_loss: 0.8191 - val_acc: 0.6858\n",
      "Epoch 30/40\n",
      "149/149 [==============================] - 90s 602ms/step - loss: 0.2022 - acc: 0.9325 - val_loss: 0.9674 - val_acc: 0.6554\n",
      "Epoch 31/40\n",
      "149/149 [==============================] - 97s 653ms/step - loss: 0.1816 - acc: 0.9274 - val_loss: 0.9788 - val_acc: 0.6588\n",
      "Epoch 32/40\n",
      "149/149 [==============================] - 90s 605ms/step - loss: 0.1753 - acc: 0.9308 - val_loss: 1.0912 - val_acc: 0.7061\n",
      "Epoch 33/40\n",
      "149/149 [==============================] - 90s 603ms/step - loss: 0.1392 - acc: 0.9519 - val_loss: 1.1431 - val_acc: 0.6926\n",
      "Epoch 34/40\n",
      "149/149 [==============================] - 88s 592ms/step - loss: 0.1299 - acc: 0.9578 - val_loss: 1.1258 - val_acc: 0.7061\n",
      "Epoch 35/40\n",
      "149/149 [==============================] - 89s 596ms/step - loss: 0.1229 - acc: 0.9561 - val_loss: 1.1451 - val_acc: 0.7061\n",
      "Epoch 36/40\n",
      "149/149 [==============================] - 84s 562ms/step - loss: 0.1001 - acc: 0.9603 - val_loss: 1.1719 - val_acc: 0.6723\n",
      "Epoch 37/40\n",
      "149/149 [==============================] - 84s 567ms/step - loss: 0.1028 - acc: 0.9654 - val_loss: 1.2911 - val_acc: 0.6689\n",
      "Epoch 38/40\n",
      "149/149 [==============================] - 84s 562ms/step - loss: 0.0744 - acc: 0.9755 - val_loss: 1.3019 - val_acc: 0.6757\n",
      "Epoch 39/40\n",
      "149/149 [==============================] - 83s 560ms/step - loss: 0.0833 - acc: 0.9705 - val_loss: 1.4319 - val_acc: 0.6993\n",
      "Epoch 40/40\n",
      "149/149 [==============================] - 85s 572ms/step - loss: 0.0601 - acc: 0.9781 - val_loss: 1.5581 - val_acc: 0.7027\n",
      "Processing fold:  5\n",
      "Found 1185 validated image filenames belonging to 2 classes.\n",
      "Found 296 validated image filenames belonging to 2 classes.\n",
      "Epoch 1/40\n",
      "149/149 [==============================] - 82s 545ms/step - loss: 0.6299 - acc: 0.6962 - val_loss: 0.6183 - val_acc: 0.6959\n",
      "Epoch 2/40\n",
      "149/149 [==============================] - 80s 538ms/step - loss: 0.6194 - acc: 0.6962 - val_loss: 0.6211 - val_acc: 0.6959\n",
      "Epoch 3/40\n",
      "149/149 [==============================] - 80s 539ms/step - loss: 0.6165 - acc: 0.6979 - val_loss: 0.6186 - val_acc: 0.6959\n",
      "Epoch 4/40\n",
      "149/149 [==============================] - 79s 532ms/step - loss: 0.6163 - acc: 0.6954 - val_loss: 0.6695 - val_acc: 0.6959\n",
      "Epoch 5/40\n",
      "149/149 [==============================] - 80s 539ms/step - loss: 0.6133 - acc: 0.6878 - val_loss: 0.6156 - val_acc: 0.6959\n",
      "Epoch 6/40\n",
      "149/149 [==============================] - 85s 572ms/step - loss: 0.6100 - acc: 0.6970 - val_loss: 0.6040 - val_acc: 0.6959\n",
      "Epoch 7/40\n",
      "149/149 [==============================] - 84s 562ms/step - loss: 0.6025 - acc: 0.6954 - val_loss: 0.6048 - val_acc: 0.7061\n",
      "Epoch 8/40\n",
      "149/149 [==============================] - 80s 535ms/step - loss: 0.5894 - acc: 0.7038 - val_loss: 0.5937 - val_acc: 0.6926\n",
      "Epoch 9/40\n",
      "149/149 [==============================] - 79s 532ms/step - loss: 0.5784 - acc: 0.7089 - val_loss: 0.6005 - val_acc: 0.6959\n",
      "Epoch 10/40\n",
      "149/149 [==============================] - 80s 538ms/step - loss: 0.5743 - acc: 0.7080 - val_loss: 0.5836 - val_acc: 0.7128\n",
      "Epoch 11/40\n",
      "149/149 [==============================] - 83s 560ms/step - loss: 0.5610 - acc: 0.7207 - val_loss: 0.5966 - val_acc: 0.6757\n",
      "Epoch 12/40\n",
      "149/149 [==============================] - 80s 535ms/step - loss: 0.5506 - acc: 0.7249 - val_loss: 0.5984 - val_acc: 0.6689\n",
      "Epoch 13/40\n",
      "149/149 [==============================] - 89s 595ms/step - loss: 0.5281 - acc: 0.7527 - val_loss: 0.5756 - val_acc: 0.6993\n",
      "Epoch 14/40\n",
      "149/149 [==============================] - 87s 584ms/step - loss: 0.5259 - acc: 0.7367 - val_loss: 0.5746 - val_acc: 0.7128\n",
      "Epoch 15/40\n",
      "149/149 [==============================] - 90s 604ms/step - loss: 0.5136 - acc: 0.7603 - val_loss: 0.5556 - val_acc: 0.7196\n",
      "Epoch 16/40\n",
      "149/149 [==============================] - 82s 549ms/step - loss: 0.4974 - acc: 0.7705 - val_loss: 0.5878 - val_acc: 0.7196\n",
      "Epoch 17/40\n",
      "149/149 [==============================] - 85s 567ms/step - loss: 0.4795 - acc: 0.7789 - val_loss: 0.5752 - val_acc: 0.6993\n",
      "Epoch 18/40\n",
      "149/149 [==============================] - 81s 543ms/step - loss: 0.4833 - acc: 0.7797 - val_loss: 0.5631 - val_acc: 0.7095\n",
      "Epoch 19/40\n",
      "149/149 [==============================] - 80s 535ms/step - loss: 0.4561 - acc: 0.7806 - val_loss: 0.5860 - val_acc: 0.6993\n",
      "Epoch 20/40\n",
      "149/149 [==============================] - 78s 524ms/step - loss: 0.4464 - acc: 0.7983 - val_loss: 0.5679 - val_acc: 0.7466\n",
      "Epoch 21/40\n",
      "149/149 [==============================] - 86s 576ms/step - loss: 0.4197 - acc: 0.8177 - val_loss: 0.5803 - val_acc: 0.7061\n",
      "Epoch 22/40\n",
      "149/149 [==============================] - 87s 581ms/step - loss: 0.4069 - acc: 0.8160 - val_loss: 0.5812 - val_acc: 0.7095\n",
      "Epoch 23/40\n",
      "149/149 [==============================] - 82s 550ms/step - loss: 0.3863 - acc: 0.8228 - val_loss: 0.6884 - val_acc: 0.7230\n",
      "Epoch 24/40\n",
      "149/149 [==============================] - 88s 591ms/step - loss: 0.3654 - acc: 0.8481 - val_loss: 0.6273 - val_acc: 0.7365\n",
      "Epoch 25/40\n",
      "149/149 [==============================] - 87s 586ms/step - loss: 0.3516 - acc: 0.8515 - val_loss: 0.6069 - val_acc: 0.7162\n",
      "Epoch 26/40\n",
      "149/149 [==============================] - 81s 542ms/step - loss: 0.3255 - acc: 0.8599 - val_loss: 0.6243 - val_acc: 0.7432\n",
      "Epoch 27/40\n",
      "149/149 [==============================] - 80s 535ms/step - loss: 0.3090 - acc: 0.8608 - val_loss: 0.7414 - val_acc: 0.6385\n",
      "Epoch 28/40\n",
      "149/149 [==============================] - 84s 562ms/step - loss: 0.2785 - acc: 0.8852 - val_loss: 0.7121 - val_acc: 0.7399\n",
      "Epoch 29/40\n",
      "149/149 [==============================] - 86s 579ms/step - loss: 0.2604 - acc: 0.8937 - val_loss: 0.7073 - val_acc: 0.7365\n",
      "Epoch 30/40\n",
      "149/149 [==============================] - 83s 557ms/step - loss: 0.2414 - acc: 0.8970 - val_loss: 0.8125 - val_acc: 0.6689\n",
      "Epoch 31/40\n",
      "149/149 [==============================] - 83s 557ms/step - loss: 0.2261 - acc: 0.9080 - val_loss: 0.7324 - val_acc: 0.7196\n",
      "Epoch 32/40\n",
      "149/149 [==============================] - 87s 583ms/step - loss: 0.1970 - acc: 0.9283 - val_loss: 0.8572 - val_acc: 0.7061\n",
      "Epoch 33/40\n",
      "149/149 [==============================] - 89s 595ms/step - loss: 0.1874 - acc: 0.9257 - val_loss: 0.9288 - val_acc: 0.6486\n",
      "Epoch 34/40\n",
      "149/149 [==============================] - 87s 582ms/step - loss: 0.1674 - acc: 0.9367 - val_loss: 0.9851 - val_acc: 0.6858\n",
      "Epoch 35/40\n",
      "149/149 [==============================] - 84s 565ms/step - loss: 0.1443 - acc: 0.9477 - val_loss: 0.9625 - val_acc: 0.6993\n",
      "Epoch 36/40\n",
      "149/149 [==============================] - 84s 561ms/step - loss: 0.1235 - acc: 0.9612 - val_loss: 0.9550 - val_acc: 0.7264\n",
      "Epoch 37/40\n",
      "149/149 [==============================] - 85s 572ms/step - loss: 0.1114 - acc: 0.9595 - val_loss: 0.9810 - val_acc: 0.7534\n",
      "Epoch 38/40\n",
      "149/149 [==============================] - 84s 562ms/step - loss: 0.1030 - acc: 0.9646 - val_loss: 0.9792 - val_acc: 0.7331\n",
      "Epoch 39/40\n",
      "149/149 [==============================] - 84s 560ms/step - loss: 0.1039 - acc: 0.9662 - val_loss: 1.0032 - val_acc: 0.7331\n",
      "Epoch 40/40\n",
      "149/149 [==============================] - 84s 562ms/step - loss: 0.0834 - acc: 0.9713 - val_loss: 1.2140 - val_acc: 0.7095\n"
     ]
    }
   ],
   "source": [
    "histories = []\n",
    "i = 1\n",
    "\n",
    "for train_index, test_index in skfold.split(train_data, train_labels):\n",
    "    print('Processing fold: ', i )\n",
    "    training_data = np.asarray(train_data)[train_index]\n",
    "    validation_data = np.asarray(train_data)[test_index]\n",
    "    training_target = np.asarray(train_labels)[train_index]\n",
    "    validation_target = np.asarray(train_labels)[test_index]\n",
    "    \n",
    "    data_train = {'filename': training_data, 'label': training_target}\n",
    "    data_train = pd.DataFrame(data=data_train)\n",
    "    \n",
    "    data_validation = {'filename': validation_data, 'label': validation_target}\n",
    "    data_validation = pd.DataFrame(data=data_validation)\n",
    "    \n",
    "    train_data_generator = train_datagen.flow_from_dataframe(data_train,\n",
    "                                                            x_col = \"filename\",\n",
    "                                                            y_col = \"label\",\n",
    "                                                            target_size=(224, 224),\n",
    "                                                            class_mode = \"binary\", \n",
    "                                                            shuffle = True, \n",
    "                                                            batch_size = 8)\n",
    "   \n",
    "    validation_data_generator = test_datagen.flow_from_dataframe(data_validation,\n",
    "                                                            x_col = \"filename\",\n",
    "                                                            y_col = \"label\",\n",
    "                                                            target_size=(224, 224),\n",
    "                                                            class_mode = \"binary\", \n",
    "                                                            shuffle = True, \n",
    "                                                            batch_size = 8)\n",
    "    model = build_scratch_model()\n",
    "    history = model.fit(train_data_generator,\n",
    "                        epochs=40,\n",
    "                        validation_data=validation_data_generator)\n",
    "    histories.append(history)\n",
    "    \n",
    "    i += 1\n",
    "    #plot_graphs(history)\n",
    "    \n",
    "   "
   ]
  },
  {
   "cell_type": "code",
   "execution_count": 47,
   "id": "124554f6",
   "metadata": {},
   "outputs": [
    {
     "name": "stdout",
     "output_type": "stream",
     "text": [
      "Accuracy:  0.8425886809825898 Validation Accuracy:  0.696885521709919 \n",
      " Loss:  0.3421113687567413 Validation Loss:  0.9688829839229584 \n",
      "\n",
      "Accuracy:  0.8371307998895645 Validation Accuracy:  0.6941722899675369 \n",
      " Loss:  0.35566213056445123 Validation Loss:  0.9050634428858757 \n",
      "\n",
      "Accuracy:  0.84118143171072 Validation Accuracy:  0.6619087845087052 \n",
      " Loss:  0.3452318452298641 Validation Loss:  1.1362787336111069 \n",
      "\n",
      "Accuracy:  0.823734174668789 Validation Accuracy:  0.695945942401886 \n",
      " Loss:  0.3784921080805361 Validation Loss:  0.8206402882933617 \n",
      "\n",
      "Accuracy:  0.8152953535318375 Validation Accuracy:  0.7066722929477691 \n",
      " Loss:  0.3970954118296504 Validation Loss:  0.7047660142183304 \n",
      "\n"
     ]
    }
   ],
   "source": [
    "show_accuracies(histories)\n",
    "save_dict_as_json([history.history for history in histories], 'end_to_end_40_histories')"
   ]
  },
  {
   "cell_type": "markdown",
   "id": "604c45f3",
   "metadata": {},
   "source": [
    "__Plotting histories of each fold:__"
   ]
  },
  {
   "cell_type": "code",
   "execution_count": 48,
   "id": "c86b209b",
   "metadata": {
    "scrolled": false
   },
   "outputs": [
    {
     "data": {
      "image/png": "[encoded data removed]",
      "text/plain": [
       "<Figure size 432x288 with 1 Axes>"
      ]
     },
     "metadata": {
      "needs_background": "light"
     },
     "output_type": "display_data"
    },
    {
     "data": {
      "image/png": "[encoded data removed]",
      "text/plain": [
       "<Figure size 432x288 with 1 Axes>"
      ]
     },
     "metadata": {
      "needs_background": "light"
     },
     "output_type": "display_data"
    },
    {
     "data": {
      "image/png": "[encoded data removed]",
      "text/plain": [
       "<Figure size 432x288 with 1 Axes>"
      ]
     },
     "metadata": {
      "needs_background": "light"
     },
     "output_type": "display_data"
    },
    {
     "data": {
      "image/png": "[encoded data removed]",
      "text/plain": [
       "<Figure size 432x288 with 1 Axes>"
      ]
     },
     "metadata": {
      "needs_background": "light"
     },
     "output_type": "display_data"
    },
    {
     "data": {
      "image/png": "[encoded data removed]",
      "text/plain": [
       "<Figure size 432x288 with 1 Axes>"
      ]
     },
     "metadata": {
      "needs_background": "light"
     },
     "output_type": "display_data"
    },
    {
     "data": {
      "image/png": "[encoded data removed]",
      "text/plain": [
       "<Figure size 432x288 with 1 Axes>"
      ]
     },
     "metadata": {
      "needs_background": "light"
     },
     "output_type": "display_data"
    },
    {
     "data": {
      "image/png": "[encoded data removed]",
      "text/plain": [
       "<Figure size 432x288 with 1 Axes>"
      ]
     },
     "metadata": {
      "needs_background": "light"
     },
     "output_type": "display_data"
    },
    {
     "data": {
      "image/png": "[encoded data removed]",
      "text/plain": [
       "<Figure size 432x288 with 1 Axes>"
      ]
     },
     "metadata": {
      "needs_background": "light"
     },
     "output_type": "display_data"
    },
    {
     "data": {
      "image/png": "[encoded data removed]",
      "text/plain": [
       "<Figure size 432x288 with 1 Axes>"
      ]
     },
     "metadata": {
      "needs_background": "light"
     },
     "output_type": "display_data"
    },
    {
     "data": {
      "image/png": "[encoded data removed]",
      "text/plain": [
       "<Figure size 432x288 with 1 Axes>"
      ]
     },
     "metadata": {
      "needs_background": "light"
     },
     "output_type": "display_data"
    }
   ],
   "source": [
    "for item in histories:\n",
    "    plot_graphs(item.history, True)"
   ]
  },
  {
   "cell_type": "markdown",
   "id": "e2d0d4ce",
   "metadata": {},
   "source": [
    "__Plotting history of mean accuracy, validation accuracy, loss and validation loss for each epoch:__\n"
   ]
  },
  {
   "cell_type": "code",
   "execution_count": 49,
   "id": "59ff3137",
   "metadata": {},
   "outputs": [
    {
     "data": {
      "image/png": "[encoded data removed]",
      "text/plain": [
       "<Figure size 432x288 with 1 Axes>"
      ]
     },
     "metadata": {
      "needs_background": "light"
     },
     "output_type": "display_data"
    },
    {
     "data": {
      "image/png": "[encoded data removed]",
      "text/plain": [
       "<Figure size 432x288 with 1 Axes>"
      ]
     },
     "metadata": {
      "needs_background": "light"
     },
     "output_type": "display_data"
    }
   ],
   "source": [
    "epochs = 20\n",
    "data = {}\n",
    "acc = [0 for _ in range(epochs)]\n",
    "val_acc = [0 for _ in range(epochs)]\n",
    "loss = [0 for _ in range(epochs)]\n",
    "val_loss = [0 for _ in range(epochs)]\n",
    "\n",
    "for epoch in range(epochs):\n",
    "    acc[epoch] = np.mean([history.history['acc'][epoch] for history in histories])\n",
    "    val_acc[epoch] = np.mean([history.history['val_acc'][epoch] for history in histories])\n",
    "    loss[epoch] = np.mean([history.history['loss'][epoch] for history in histories])\n",
    "    val_loss[epoch] = np.mean([history.history['val_loss'][epoch] for history in histories])\n",
    "\n",
    "data[\"acc\"] = acc\n",
    "data[\"val_acc\"] = val_acc\n",
    "data['loss'] = loss\n",
    "data['val_loss'] = val_loss\n",
    "plot_graphs(data)\n",
    "    "
   ]
  },
  {
   "cell_type": "markdown",
   "id": "0b8bdf91",
   "metadata": {},
   "source": [
    "##### Evaluating the results"
   ]
  },
  {
   "cell_type": "code",
   "execution_count": 50,
   "id": "da51bb3a",
   "metadata": {},
   "outputs": [
    {
     "name": "stdout",
     "output_type": "stream",
     "text": [
      "Found 741 images belonging to 2 classes.\n",
      "38/38 [==============================] - 24s 601ms/step - loss: 1.5496 - acc: 0.6788\n"
     ]
    }
   ],
   "source": [
    "test_datagen = ImageDataGenerator(rescale=1./255)\n",
    "\n",
    "test_generator = test_datagen.flow_from_directory(\n",
    "                                test_dir,\n",
    "                                target_size=(224, 224),\n",
    "                                batch_size=20,\n",
    "                                class_mode='binary')\n",
    "\n",
    "results = model.evaluate(test_generator)"
   ]
  },
  {
   "cell_type": "code",
   "execution_count": 51,
   "id": "f1f61ff5",
   "metadata": {},
   "outputs": [
    {
     "name": "stdout",
     "output_type": "stream",
     "text": [
      "['loss', 'acc']\n",
      "[1.549623966217041, 0.6788124442100525]\n"
     ]
    }
   ],
   "source": [
    "print(model.metrics_names)\n",
    "print(results)"
   ]
  },
  {
   "cell_type": "markdown",
   "id": "56198d44",
   "metadata": {},
   "source": [
    "##### Saving the model"
   ]
  },
  {
   "cell_type": "code",
   "execution_count": 52,
   "id": "0fe0dc94",
   "metadata": {},
   "outputs": [],
   "source": [
    "model.save('cancer_classification_end_to_end_40.h5')"
   ]
  },
  {
   "cell_type": "markdown",
   "id": "d8a7c536",
   "metadata": {},
   "source": [
    "## Model with data augmentation\n",
    "\n",
    "##### Image data generators with augmentation\n",
    "\n",
    "Setting global variables paths for validation folder"
   ]
  },
  {
   "cell_type": "code",
   "execution_count": 53,
   "id": "62813a02",
   "metadata": {},
   "outputs": [],
   "source": [
    "base_directory = 'image_database'\n",
    "train_dir = os.path.join(base_directory, 'train')\n",
    "test_dir = os.path.join(base_directory, 'test')\n",
    "validation_dir = os.path.join(base_directory, 'validation')\n",
    "\n",
    "train_basal_dir = os.path.join(train_dir, 'basal')\n",
    "train_basal_data = os.listdir(train_basal_dir)\n",
    "train_basal_labels = [\"basal\" for _ in range(len(train_basal_data))]\n",
    "test_basal_dir = os.path.join(test_dir, 'basal')\n",
    "validation_basal_dir = os.path.join(validation_dir, 'basal')\n",
    "\n",
    "train_squamous_dir = os.path.join(train_dir, 'squamous')\n",
    "train_squamous_data = os.listdir(train_squamous_dir)\n",
    "train_squamous_labels = [\"squamous\" for _ in range(len(train_squamous_data))]\n",
    "test_squamous_dir = os.path.join(test_dir, 'squamous')\n",
    "validation_squamous_dir = os.path.join(validation_dir, 'squamous')\n",
    "size = (224,224)"
   ]
  },
  {
   "cell_type": "code",
   "execution_count": 23,
   "id": "ddfb4dd5",
   "metadata": {},
   "outputs": [
    {
     "name": "stdout",
     "output_type": "stream",
     "text": [
      "Found 1110 images belonging to 2 classes.\n",
      "Found 556 images belonging to 2 classes.\n"
     ]
    }
   ],
   "source": [
    "# Image data generator to increase the size of data samples\n",
    "train_datagen = ImageDataGenerator(\n",
    "                rescale=1./255,\n",
    "                rotation_range=360,\n",
    "                horizontal_flip=True,\n",
    "                vertical_flip=True)\n",
    "\n",
    "test_datagen = ImageDataGenerator(rescale=1./255)\n",
    "\n",
    "train_generator = train_datagen.flow_from_directory(\n",
    "                    train_dir,\n",
    "                    target_size=size,\n",
    "                    batch_size=8,\n",
    "                    class_mode='binary')\n",
    "\n",
    "validation_generator = test_datagen.flow_from_directory(\n",
    "                        validation_dir,\n",
    "                        target_size=size,\n",
    "                        batch_size=8,\n",
    "                        class_mode='binary')\n"
   ]
  },
  {
   "cell_type": "code",
   "execution_count": 56,
   "id": "45f18919",
   "metadata": {},
   "outputs": [
    {
     "name": "stdout",
     "output_type": "stream",
     "text": [
      "Epoch 1/40\n",
      "139/139 [==============================] - 118s 842ms/step - loss: 0.6398 - acc: 0.6946 - val_loss: 0.6179 - val_acc: 0.6960\n",
      "Epoch 2/40\n",
      "139/139 [==============================] - 119s 844ms/step - loss: 0.6190 - acc: 0.6964 - val_loss: 0.6628 - val_acc: 0.6960\n",
      "Epoch 3/40\n",
      "139/139 [==============================] - 122s 879ms/step - loss: 0.6187 - acc: 0.6964 - val_loss: 0.6209 - val_acc: 0.6960\n",
      "Epoch 4/40\n",
      "139/139 [==============================] - 121s 870ms/step - loss: 0.6092 - acc: 0.6964 - val_loss: 0.6191 - val_acc: 0.6960\n",
      "Epoch 5/40\n",
      "139/139 [==============================] - 126s 904ms/step - loss: 0.6048 - acc: 0.6973 - val_loss: 0.6201 - val_acc: 0.6960\n",
      "Epoch 6/40\n",
      "139/139 [==============================] - 129s 928ms/step - loss: 0.6009 - acc: 0.6955 - val_loss: 0.6283 - val_acc: 0.6960\n",
      "Epoch 7/40\n",
      "139/139 [==============================] - 125s 901ms/step - loss: 0.5993 - acc: 0.6964 - val_loss: 0.6155 - val_acc: 0.6960\n",
      "Epoch 8/40\n",
      "139/139 [==============================] - 127s 914ms/step - loss: 0.5897 - acc: 0.6955 - val_loss: 0.6141 - val_acc: 0.6960\n",
      "Epoch 9/40\n",
      "139/139 [==============================] - 125s 897ms/step - loss: 0.5909 - acc: 0.6982 - val_loss: 0.5975 - val_acc: 0.6942\n",
      "Epoch 10/40\n",
      "139/139 [==============================] - 131s 940ms/step - loss: 0.5856 - acc: 0.6991 - val_loss: 0.6256 - val_acc: 0.6637\n",
      "Epoch 11/40\n",
      "139/139 [==============================] - 121s 873ms/step - loss: 0.5788 - acc: 0.7153 - val_loss: 0.6164 - val_acc: 0.6745\n",
      "Epoch 12/40\n",
      "139/139 [==============================] - 126s 903ms/step - loss: 0.5757 - acc: 0.7045 - val_loss: 0.6217 - val_acc: 0.6655\n",
      "Epoch 13/40\n",
      "139/139 [==============================] - 124s 893ms/step - loss: 0.5773 - acc: 0.7126 - val_loss: 0.5793 - val_acc: 0.7050\n",
      "Epoch 14/40\n",
      "139/139 [==============================] - 123s 885ms/step - loss: 0.5670 - acc: 0.7162 - val_loss: 0.6141 - val_acc: 0.6637\n",
      "Epoch 15/40\n",
      "139/139 [==============================] - 124s 889ms/step - loss: 0.5645 - acc: 0.7153 - val_loss: 0.6076 - val_acc: 0.6960\n",
      "Epoch 16/40\n",
      "139/139 [==============================] - 123s 882ms/step - loss: 0.5526 - acc: 0.7333 - val_loss: 0.6548 - val_acc: 0.5683\n",
      "Epoch 17/40\n",
      "139/139 [==============================] - 124s 891ms/step - loss: 0.5529 - acc: 0.7315 - val_loss: 0.6069 - val_acc: 0.6817\n",
      "Epoch 18/40\n",
      "139/139 [==============================] - 127s 916ms/step - loss: 0.5549 - acc: 0.7315 - val_loss: 0.5883 - val_acc: 0.7068\n",
      "Epoch 19/40\n",
      "139/139 [==============================] - 124s 888ms/step - loss: 0.5491 - acc: 0.7369 - val_loss: 0.5681 - val_acc: 0.7356\n",
      "Epoch 20/40\n",
      "139/139 [==============================] - 129s 930ms/step - loss: 0.5445 - acc: 0.7306 - val_loss: 0.5816 - val_acc: 0.7122\n",
      "Epoch 21/40\n",
      "139/139 [==============================] - 126s 907ms/step - loss: 0.5300 - acc: 0.7315 - val_loss: 0.6154 - val_acc: 0.6601\n",
      "Epoch 22/40\n",
      "139/139 [==============================] - 123s 883ms/step - loss: 0.5363 - acc: 0.7396 - val_loss: 0.6227 - val_acc: 0.6547\n",
      "Epoch 23/40\n",
      "139/139 [==============================] - 121s 867ms/step - loss: 0.5393 - acc: 0.7360 - val_loss: 0.5980 - val_acc: 0.7266\n",
      "Epoch 24/40\n",
      "139/139 [==============================] - 127s 916ms/step - loss: 0.5365 - acc: 0.7315 - val_loss: 0.7861 - val_acc: 0.7104\n",
      "Epoch 25/40\n",
      "139/139 [==============================] - 125s 901ms/step - loss: 0.5295 - acc: 0.7441 - val_loss: 0.5943 - val_acc: 0.7302\n",
      "Epoch 26/40\n",
      "139/139 [==============================] - 133s 956ms/step - loss: 0.5322 - acc: 0.7423 - val_loss: 0.6533 - val_acc: 0.7104\n",
      "Epoch 27/40\n",
      "139/139 [==============================] - 138s 995ms/step - loss: 0.5179 - acc: 0.7486 - val_loss: 0.6730 - val_acc: 0.7050\n",
      "Epoch 28/40\n",
      "139/139 [==============================] - 142s 1s/step - loss: 0.5311 - acc: 0.7405 - val_loss: 0.6810 - val_acc: 0.6853\n",
      "Epoch 29/40\n",
      "139/139 [==============================] - 128s 917ms/step - loss: 0.5212 - acc: 0.7523 - val_loss: 0.6033 - val_acc: 0.7392\n",
      "Epoch 30/40\n",
      "139/139 [==============================] - 128s 917ms/step - loss: 0.5089 - acc: 0.7550 - val_loss: 0.7391 - val_acc: 0.7230\n",
      "Epoch 31/40\n",
      "139/139 [==============================] - 129s 929ms/step - loss: 0.5097 - acc: 0.7640 - val_loss: 0.7191 - val_acc: 0.7158\n",
      "Epoch 32/40\n",
      "139/139 [==============================] - 125s 896ms/step - loss: 0.5136 - acc: 0.7667 - val_loss: 0.6588 - val_acc: 0.6601\n",
      "Epoch 33/40\n",
      "139/139 [==============================] - 125s 901ms/step - loss: 0.5184 - acc: 0.7559 - val_loss: 0.6945 - val_acc: 0.7338\n",
      "Epoch 34/40\n",
      "139/139 [==============================] - 117s 836ms/step - loss: 0.5121 - acc: 0.7604 - val_loss: 0.6255 - val_acc: 0.6996\n",
      "Epoch 35/40\n",
      "139/139 [==============================] - 117s 839ms/step - loss: 0.4885 - acc: 0.7721 - val_loss: 0.7500 - val_acc: 0.7176\n",
      "Epoch 36/40\n",
      "139/139 [==============================] - 124s 893ms/step - loss: 0.4977 - acc: 0.7784 - val_loss: 0.7758 - val_acc: 0.5719\n",
      "Epoch 37/40\n",
      "139/139 [==============================] - 127s 913ms/step - loss: 0.5009 - acc: 0.7559 - val_loss: 0.6445 - val_acc: 0.6996\n",
      "Epoch 38/40\n",
      "139/139 [==============================] - 156s 1s/step - loss: 0.4966 - acc: 0.7622 - val_loss: 0.6913 - val_acc: 0.7230\n",
      "Epoch 39/40\n",
      "139/139 [==============================] - 136s 975ms/step - loss: 0.5006 - acc: 0.7631 - val_loss: 0.6324 - val_acc: 0.6853\n",
      "Epoch 40/40\n",
      "139/139 [==============================] - 142s 1s/step - loss: 0.4812 - acc: 0.7919 - val_loss: 0.7625 - val_acc: 0.7194\n"
     ]
    }
   ],
   "source": [
    "model = build_scratch_model()\n",
    "history = model.fit(train_generator,\n",
    "                    epochs=40,\n",
    "                    validation_data=validation_generator)"
   ]
  },
  {
   "cell_type": "code",
   "execution_count": 57,
   "id": "d16f6a0b",
   "metadata": {},
   "outputs": [],
   "source": [
    "model.save('cancer_classification_data_augmentation_40.h5')"
   ]
  },
  {
   "cell_type": "code",
   "execution_count": 58,
   "id": "5ef3130d",
   "metadata": {},
   "outputs": [
    {
     "data": {
      "image/png": "[encoded data removed]",
      "text/plain": [
       "<Figure size 432x288 with 1 Axes>"
      ]
     },
     "metadata": {
      "needs_background": "light"
     },
     "output_type": "display_data"
    },
    {
     "data": {
      "image/png": "[encoded data removed]",
      "text/plain": [
       "<Figure size 432x288 with 1 Axes>"
      ]
     },
     "metadata": {
      "needs_background": "light"
     },
     "output_type": "display_data"
    }
   ],
   "source": [
    "plot_graphs(history.history, True)"
   ]
  },
  {
   "cell_type": "code",
   "execution_count": 59,
   "id": "ce5384a1",
   "metadata": {},
   "outputs": [
    {
     "name": "stdout",
     "output_type": "stream",
     "text": [
      "Found 556 images belonging to 2 classes.\n",
      "35/35 [==============================] - 35s 1s/step - loss: 0.7053 - acc: 0.6835\n"
     ]
    }
   ],
   "source": [
    "test_datagen = ImageDataGenerator(rescale=1./255)\n",
    "\n",
    "test_generator = test_datagen.flow_from_directory(\n",
    "                                test_dir,\n",
    "                                target_size=size,\n",
    "                                batch_size=16,\n",
    "                                class_mode='binary')\n",
    "\n",
    "results = model.evaluate(test_generator)"
   ]
  },
  {
   "cell_type": "code",
   "execution_count": 60,
   "id": "88b5cdee",
   "metadata": {},
   "outputs": [
    {
     "name": "stdout",
     "output_type": "stream",
     "text": [
      "['loss', 'acc']\n",
      "[0.7052786350250244, 0.6834532618522644]\n"
     ]
    }
   ],
   "source": [
    "print(model.metrics_names)\n",
    "print(results)"
   ]
  },
  {
   "cell_type": "markdown",
   "id": "95a7a1ad",
   "metadata": {},
   "source": [
    "## Transfer Learning\n",
    "\n",
    "### Feature extraction"
   ]
  },
  {
   "cell_type": "code",
   "execution_count": 18,
   "id": "74e3da7f",
   "metadata": {},
   "outputs": [],
   "source": [
    "base_directory = 'image_database'\n",
    "train_dir = os.path.join(base_directory, 'train')\n",
    "test_dir = os.path.join(base_directory, 'test')\n",
    "validation_dir = os.path.join(base_directory, 'validation')\n",
    "\n",
    "train_basal_dir = os.path.join(train_dir, 'basal')\n",
    "train_basal_data = os.listdir(train_basal_dir)\n",
    "train_basal_labels = [\"basal\" for _ in range(len(train_basal_data))]\n",
    "test_basal_dir = os.path.join(test_dir, 'basal')\n",
    "validation_basal_dir = os.path.join(validation_dir, 'basal')\n",
    "\n",
    "train_squamous_dir = os.path.join(train_dir, 'squamous')\n",
    "train_squamous_data = os.listdir(train_squamous_dir)\n",
    "train_squamous_labels = [\"squamous\" for _ in range(len(train_squamous_data))]\n",
    "test_squamous_dir = os.path.join(test_dir, 'squamous')\n",
    "validation_squamous_dir = os.path.join(validation_dir, 'squamous')\n",
    "size = (224,224)"
   ]
  },
  {
   "cell_type": "code",
   "execution_count": 19,
   "id": "ed583b25",
   "metadata": {},
   "outputs": [
    {
     "name": "stdout",
     "output_type": "stream",
     "text": [
      "Found 1110 images belonging to 2 classes.\n",
      "Found 556 images belonging to 2 classes.\n"
     ]
    }
   ],
   "source": [
    "# Image data generator to increase the size of data samples\n",
    "train_datagen = ImageDataGenerator(\n",
    "                rescale=1./255,\n",
    "                rotation_range=360,\n",
    "                horizontal_flip=True,\n",
    "                vertical_flip=True)\n",
    "\n",
    "test_datagen = ImageDataGenerator(rescale=1./255)\n",
    "\n",
    "train_generator = train_datagen.flow_from_directory(\n",
    "                    train_dir,\n",
    "                    target_size=size,\n",
    "                    batch_size=8,\n",
    "                    class_mode='binary')\n",
    "\n",
    "validation_generator = test_datagen.flow_from_directory(\n",
    "                        validation_dir,\n",
    "                        target_size=size,\n",
    "                        batch_size=8,\n",
    "                        class_mode='binary')\n"
   ]
  },
  {
   "cell_type": "code",
   "execution_count": 20,
   "id": "8d947784",
   "metadata": {},
   "outputs": [],
   "source": [
    "def build_VGG_feature_extraction_model():\n",
    "    conv_base = VGG16(weights='imagenet', include_top=False, input_shape=(224, 224, 3))\n",
    "    conv_base.trainable = False\n",
    "    model = models.Sequential()\n",
    "    model.add(conv_base)\n",
    "    model.add(layers.Flatten())\n",
    "    model.add(layers.Dense(256, activation='relu'))\n",
    "    model.add(layers.Dropout(0.5))\n",
    "    model.add(layers.Dense(1, activation='sigmoid'))\n",
    "    model.compile(loss='binary_crossentropy', optimizer= optimizers.RMSprop(learning_rate=1e-4), metrics=['acc'])\n",
    "    return model"
   ]
  },
  {
   "cell_type": "code",
   "execution_count": 21,
   "id": "a790b0dd",
   "metadata": {},
   "outputs": [
    {
     "name": "stdout",
     "output_type": "stream",
     "text": [
      "Epoch 1/25\n",
      "139/139 [==============================] - 441s 3s/step - loss: 0.7275 - acc: 0.6333 - val_loss: 0.6596 - val_acc: 0.6960\n",
      "Epoch 2/25\n",
      "139/139 [==============================] - 435s 3s/step - loss: 0.6359 - acc: 0.6811 - val_loss: 0.6098 - val_acc: 0.6996\n",
      "Epoch 3/25\n",
      "139/139 [==============================] - 430s 3s/step - loss: 0.5992 - acc: 0.6982 - val_loss: 0.6079 - val_acc: 0.6978\n",
      "Epoch 4/25\n",
      "139/139 [==============================] - 430s 3s/step - loss: 0.5972 - acc: 0.7027 - val_loss: 0.6069 - val_acc: 0.6960\n",
      "Epoch 5/25\n",
      "139/139 [==============================] - 437s 3s/step - loss: 0.5814 - acc: 0.7108 - val_loss: 0.5975 - val_acc: 0.7068\n",
      "Epoch 6/25\n",
      "139/139 [==============================] - 434s 3s/step - loss: 0.5681 - acc: 0.7198 - val_loss: 0.6183 - val_acc: 0.6960\n",
      "Epoch 7/25\n",
      "139/139 [==============================] - 439s 3s/step - loss: 0.5895 - acc: 0.7135 - val_loss: 0.5946 - val_acc: 0.6906\n",
      "Epoch 8/25\n",
      "139/139 [==============================] - 439s 3s/step - loss: 0.5807 - acc: 0.7144 - val_loss: 0.6088 - val_acc: 0.6924\n",
      "Epoch 9/25\n",
      "139/139 [==============================] - 439s 3s/step - loss: 0.5732 - acc: 0.7126 - val_loss: 0.6337 - val_acc: 0.6727\n",
      "Epoch 10/25\n",
      "139/139 [==============================] - 444s 3s/step - loss: 0.5703 - acc: 0.7189 - val_loss: 0.6117 - val_acc: 0.6799\n",
      "Epoch 11/25\n",
      "139/139 [==============================] - 438s 3s/step - loss: 0.5555 - acc: 0.7369 - val_loss: 0.6151 - val_acc: 0.6906\n",
      "Epoch 12/25\n",
      "139/139 [==============================] - 433s 3s/step - loss: 0.5424 - acc: 0.7432 - val_loss: 0.6272 - val_acc: 0.6960\n",
      "Epoch 13/25\n",
      "139/139 [==============================] - 434s 3s/step - loss: 0.5603 - acc: 0.7396 - val_loss: 0.6815 - val_acc: 0.6996\n",
      "Epoch 14/25\n",
      "139/139 [==============================] - 437s 3s/step - loss: 0.5416 - acc: 0.7396 - val_loss: 0.6148 - val_acc: 0.6853\n",
      "Epoch 15/25\n",
      "139/139 [==============================] - 431s 3s/step - loss: 0.5316 - acc: 0.7387 - val_loss: 0.6283 - val_acc: 0.7032\n",
      "Epoch 16/25\n",
      "139/139 [==============================] - 437s 3s/step - loss: 0.5427 - acc: 0.7432 - val_loss: 0.6372 - val_acc: 0.6835\n",
      "Epoch 17/25\n",
      "139/139 [==============================] - 438s 3s/step - loss: 0.5532 - acc: 0.7396 - val_loss: 0.6250 - val_acc: 0.6942\n",
      "Epoch 18/25\n",
      "139/139 [==============================] - 442s 3s/step - loss: 0.5427 - acc: 0.7342 - val_loss: 0.6433 - val_acc: 0.6871\n",
      "Epoch 19/25\n",
      "139/139 [==============================] - 432s 3s/step - loss: 0.5331 - acc: 0.7288 - val_loss: 0.6176 - val_acc: 0.6924\n",
      "Epoch 20/25\n",
      "139/139 [==============================] - 434s 3s/step - loss: 0.5380 - acc: 0.7216 - val_loss: 0.6189 - val_acc: 0.6942\n",
      "Epoch 21/25\n",
      "139/139 [==============================] - 432s 3s/step - loss: 0.5351 - acc: 0.7505 - val_loss: 0.6385 - val_acc: 0.6924\n",
      "Epoch 22/25\n",
      "139/139 [==============================] - 439s 3s/step - loss: 0.5166 - acc: 0.7495 - val_loss: 0.6731 - val_acc: 0.7068\n",
      "Epoch 23/25\n",
      "139/139 [==============================] - 439s 3s/step - loss: 0.5300 - acc: 0.7495 - val_loss: 0.6187 - val_acc: 0.6942\n",
      "Epoch 24/25\n",
      "139/139 [==============================] - 445s 3s/step - loss: 0.5291 - acc: 0.7450 - val_loss: 0.6882 - val_acc: 0.6007\n",
      "Epoch 25/25\n",
      "139/139 [==============================] - 442s 3s/step - loss: 0.5324 - acc: 0.7514 - val_loss: 0.6546 - val_acc: 0.6547\n"
     ]
    }
   ],
   "source": [
    "model = build_VGG_feature_extraction_model()\n",
    "history = model.fit(train_generator,  \n",
    "                    epochs=25,\n",
    "                    validation_data=validation_generator)"
   ]
  },
  {
   "cell_type": "code",
   "execution_count": 26,
   "id": "68529281",
   "metadata": {},
   "outputs": [
    {
     "data": {
      "image/png": "[encoded data removed]",
      "text/plain": [
       "<Figure size 432x288 with 1 Axes>"
      ]
     },
     "metadata": {
      "needs_background": "light"
     },
     "output_type": "display_data"
    },
    {
     "data": {
      "image/png": "[encoded data removed]",
      "text/plain": [
       "<Figure size 432x288 with 1 Axes>"
      ]
     },
     "metadata": {
      "needs_background": "light"
     },
     "output_type": "display_data"
    }
   ],
   "source": [
    "plot_graphs(history.history, True)"
   ]
  },
  {
   "cell_type": "code",
   "execution_count": 23,
   "id": "7270558c",
   "metadata": {},
   "outputs": [
    {
     "name": "stdout",
     "output_type": "stream",
     "text": [
      "Found 556 images belonging to 2 classes.\n",
      "70/70 [==============================] - 143s 2s/step - loss: 0.6668 - acc: 0.6151\n",
      "['loss', 'acc']\n",
      "[0.6668352484703064, 0.6151078939437866]\n"
     ]
    }
   ],
   "source": [
    "test_datagen = ImageDataGenerator(rescale=1./255)\n",
    "\n",
    "test_generator = test_datagen.flow_from_directory(\n",
    "                                test_dir,\n",
    "                                target_size=(224, 224),\n",
    "                                batch_size=8,\n",
    "                                class_mode='binary')\n",
    "\n",
    "results = model.evaluate(test_generator)\n",
    "print(model.metrics_names)\n",
    "print(results)"
   ]
  },
  {
   "cell_type": "code",
   "execution_count": 24,
   "id": "11364f74",
   "metadata": {},
   "outputs": [],
   "source": [
    "save_dict_as_json(history.history,\"cancer_classification_vgg6_25_history\")"
   ]
  },
  {
   "cell_type": "code",
   "execution_count": 25,
   "id": "38c56b01",
   "metadata": {},
   "outputs": [],
   "source": [
    "model.save(\"cancer_classification_vgg6_25.h5\")"
   ]
  },
  {
   "cell_type": "markdown",
   "id": "9c8c0552",
   "metadata": {},
   "source": [
    "## Fine Tuning\n",
    " "
   ]
  },
  {
   "cell_type": "markdown",
   "id": "4e73fe3f",
   "metadata": {},
   "source": [
    "Se vuelven a calcular los pesos de capas superiores y se entrenar entonces, estas capas y el modelo clasificador añadido"
   ]
  },
  {
   "cell_type": "code",
   "execution_count": 16,
   "id": "0d1db534",
   "metadata": {},
   "outputs": [],
   "source": [
    "def build_model_fine_tuning():\n",
    "    conv_base = VGG16(weights='imagenet', include_top=False, input_shape=(224, 224, 3))\n",
    "    conv_base.trainable = True\n",
    "    set_trainable = False\n",
    "\n",
    "    for layer in conv_base.layers:\n",
    "        if layer.name == 'block5_conv1':\n",
    "            set_trainable = True\n",
    "        if set_trainable:\n",
    "            layer.trainable = True\n",
    "        else:\n",
    "            layer.trainable = False\n",
    "    \n",
    "    model = models.Sequential()\n",
    "    model.add(conv_base)\n",
    "    model.add(layers.Flatten())\n",
    "    model.add(layers.Dense(256, activation='relu'))    \n",
    "    model.add(layers.Dropout(0.5))\n",
    "    model.add(layers.Dense(1, activation='sigmoid'))\n",
    "    model.compile(loss='binary_crossentropy', optimizer=optimizers.RMSprop(learning_rate=1e-4), metrics=['acc'])\n",
    "    return model"
   ]
  },
  {
   "cell_type": "code",
   "execution_count": 17,
   "id": "4567ff69",
   "metadata": {},
   "outputs": [
    {
     "name": "stdout",
     "output_type": "stream",
     "text": [
      "Epoch 1/25\n",
      "139/139 [==============================] - 604s 4s/step - loss: 0.6486 - acc: 0.6676 - val_loss: 0.5967 - val_acc: 0.6942\n",
      "Epoch 2/25\n",
      "139/139 [==============================] - 595s 4s/step - loss: 0.5743 - acc: 0.7081 - val_loss: 0.6569 - val_acc: 0.6511\n",
      "Epoch 3/25\n",
      "139/139 [==============================] - 578s 4s/step - loss: 0.5527 - acc: 0.7450 - val_loss: 0.5829 - val_acc: 0.7014\n",
      "Epoch 4/25\n",
      "139/139 [==============================] - 584s 4s/step - loss: 0.5196 - acc: 0.7523 - val_loss: 0.5830 - val_acc: 0.6924\n",
      "Epoch 5/25\n",
      "139/139 [==============================] - 581s 4s/step - loss: 0.4891 - acc: 0.7640 - val_loss: 0.6263 - val_acc: 0.7068\n",
      "Epoch 6/25\n",
      "139/139 [==============================] - 571s 4s/step - loss: 0.4875 - acc: 0.7757 - val_loss: 0.5872 - val_acc: 0.7068\n",
      "Epoch 7/25\n",
      "139/139 [==============================] - 575s 4s/step - loss: 0.4857 - acc: 0.7685 - val_loss: 0.7527 - val_acc: 0.7104\n",
      "Epoch 8/25\n",
      "139/139 [==============================] - 562s 4s/step - loss: 0.4813 - acc: 0.7982 - val_loss: 0.6727 - val_acc: 0.7158\n",
      "Epoch 9/25\n",
      "139/139 [==============================] - 554s 4s/step - loss: 0.4592 - acc: 0.8000 - val_loss: 0.6873 - val_acc: 0.7140\n",
      "Epoch 10/25\n",
      "139/139 [==============================] - 594s 4s/step - loss: 0.4446 - acc: 0.8180 - val_loss: 0.5953 - val_acc: 0.7176\n",
      "Epoch 11/25\n",
      "139/139 [==============================] - 577s 4s/step - loss: 0.4352 - acc: 0.8135 - val_loss: 0.9453 - val_acc: 0.7086\n",
      "Epoch 12/25\n",
      "139/139 [==============================] - 587s 4s/step - loss: 0.4685 - acc: 0.8072 - val_loss: 0.6188 - val_acc: 0.7266\n",
      "Epoch 13/25\n",
      "139/139 [==============================] - 618s 4s/step - loss: 0.4357 - acc: 0.8252 - val_loss: 0.7248 - val_acc: 0.6996\n",
      "Epoch 14/25\n",
      "139/139 [==============================] - 593s 4s/step - loss: 0.4164 - acc: 0.8288 - val_loss: 0.8042 - val_acc: 0.6942\n",
      "Epoch 15/25\n",
      "139/139 [==============================] - 554s 4s/step - loss: 0.3986 - acc: 0.8369 - val_loss: 0.8573 - val_acc: 0.7032\n",
      "Epoch 16/25\n",
      "139/139 [==============================] - 550s 4s/step - loss: 0.4205 - acc: 0.8198 - val_loss: 0.6035 - val_acc: 0.7122\n",
      "Epoch 17/25\n",
      "139/139 [==============================] - 546s 4s/step - loss: 0.3871 - acc: 0.8405 - val_loss: 0.7972 - val_acc: 0.7266\n",
      "Epoch 18/25\n",
      "139/139 [==============================] - 584s 4s/step - loss: 0.4127 - acc: 0.8423 - val_loss: 0.6836 - val_acc: 0.6942\n",
      "Epoch 19/25\n",
      "139/139 [==============================] - 620s 4s/step - loss: 0.3925 - acc: 0.8162 - val_loss: 1.1460 - val_acc: 0.7212\n",
      "Epoch 20/25\n",
      "139/139 [==============================] - 625s 5s/step - loss: 0.4512 - acc: 0.8333 - val_loss: 0.6562 - val_acc: 0.7194\n",
      "Epoch 21/25\n",
      "139/139 [==============================] - 621s 4s/step - loss: 0.4282 - acc: 0.8234 - val_loss: 0.7685 - val_acc: 0.7158\n",
      "Epoch 22/25\n",
      "139/139 [==============================] - 614s 4s/step - loss: 0.3836 - acc: 0.8477 - val_loss: 1.1553 - val_acc: 0.6529\n",
      "Epoch 23/25\n",
      "139/139 [==============================] - 586s 4s/step - loss: 0.3688 - acc: 0.8477 - val_loss: 1.5002 - val_acc: 0.6942\n",
      "Epoch 24/25\n",
      "139/139 [==============================] - 600s 4s/step - loss: 0.3749 - acc: 0.8477 - val_loss: 0.6287 - val_acc: 0.7104\n",
      "Epoch 25/25\n",
      "139/139 [==============================] - 588s 4s/step - loss: 0.4080 - acc: 0.8523 - val_loss: 0.8592 - val_acc: 0.7428\n"
     ]
    }
   ],
   "source": [
    "model = build_model_fine_tuning()\n",
    "history = model.fit(train_generator,\n",
    "                    epochs=25,\n",
    "                    validation_data=validation_generator)"
   ]
  },
  {
   "cell_type": "code",
   "execution_count": 20,
   "id": "0105b9ae",
   "metadata": {},
   "outputs": [
    {
     "data": {
      "image/png": "[encoded data removed]",
      "text/plain": [
       "<Figure size 432x288 with 1 Axes>"
      ]
     },
     "metadata": {
      "needs_background": "light"
     },
     "output_type": "display_data"
    },
    {
     "data": {
      "image/png": "[encoded data removed]",
      "text/plain": [
       "<Figure size 432x288 with 1 Axes>"
      ]
     },
     "metadata": {
      "needs_background": "light"
     },
     "output_type": "display_data"
    }
   ],
   "source": [
    "plot_graphs(history.history, True)"
   ]
  },
  {
   "cell_type": "code",
   "execution_count": 21,
   "id": "9cb95252",
   "metadata": {},
   "outputs": [
    {
     "name": "stdout",
     "output_type": "stream",
     "text": [
      "Found 556 images belonging to 2 classes.\n",
      "70/70 [==============================] - 169s 2s/step - loss: 1.0604 - acc: 0.7032\n",
      "test loss: 1.0603963136672974\n",
      "test acc: 0.7032374143600464\n"
     ]
    }
   ],
   "source": [
    "test_datagen = ImageDataGenerator(rescale=1./255)\n",
    "test_generator = test_datagen.flow_from_directory(\n",
    "                                test_dir,\n",
    "                                target_size=size,\n",
    "                                batch_size=8,\n",
    "                                class_mode='binary')\n",
    "test_loss, test_acc = model.evaluate(test_generator)\n",
    "print('test loss:', test_loss)\n",
    "print('test acc:', test_acc)"
   ]
  },
  {
   "cell_type": "code",
   "execution_count": 18,
   "id": "63723e4e",
   "metadata": {},
   "outputs": [],
   "source": [
    "save_dict_as_json(history.history, \"cancer_classification_vgg16_fine_tuning_history_25\")\n",
    "model.save(\"cancer_classification_vgg16_fine_tuning_25.h5\")"
   ]
  },
  {
   "cell_type": "markdown",
   "id": "ddc73c52",
   "metadata": {},
   "source": [
    "# Adding Metadata\n"
   ]
  },
  {
   "cell_type": "code",
   "execution_count": 5,
   "id": "2fa15a06",
   "metadata": {},
   "outputs": [],
   "source": [
    "from tensorflow.keras.preprocessing import image\n",
    "def load_image(img_path, show=False):\n",
    "\n",
    "    img = image.load_img(img_path, target_size=(224, 224))\n",
    "    img_tensor = image.img_to_array(img)                    # (height, width, channels)\n",
    "    img_tensor = np.expand_dims(img_tensor, axis=0)         # (1, height, width, channels), add a dimension because the model expects this shape: (batch_size, height, width, channels)\n",
    "    img_tensor /= 255\n",
    "    \n",
    "    if show:\n",
    "        plt.imshow(img_tensor[0])                           \n",
    "        plt.axis('off')\n",
    "        plt.show()\n",
    "\n",
    "    return img_tensor"
   ]
  },
  {
   "cell_type": "code",
   "execution_count": 6,
   "id": "92f147d8",
   "metadata": {},
   "outputs": [],
   "source": [
    "base_directory = 'image_database'\n",
    "train_dir = os.path.join(base_directory, 'train')\n",
    "test_dir = os.path.join(base_directory, 'test')\n",
    "validation_dir = os.path.join(base_directory, 'validation')\n",
    "\n",
    "train_basal_dir = os.path.join(train_dir, 'basal')\n",
    "train_basal_data = os.listdir(train_basal_dir)\n",
    "train_basal_labels = [\"basal\" for _ in range(len(train_basal_data))]\n",
    "test_basal_dir = os.path.join(test_dir, 'basal')\n",
    "validation_basal_dir = os.path.join(validation_dir, 'basal')\n",
    "validation_basal_data = os.listdir(validation_basal_dir)\n",
    "validation_basal_labels = [\"basal\" for _ in range(len(validation_basal_data))]\n",
    "\n",
    "train_squamous_dir = os.path.join(train_dir, 'squamous')\n",
    "train_squamous_data = os.listdir(train_squamous_dir)\n",
    "train_squamous_labels = [\"squamous\" for _ in range(len(train_squamous_data))]\n",
    "test_squamous_dir = os.path.join(test_dir, 'squamous')\n",
    "validation_squamous_dir = os.path.join(validation_dir, 'squamous')\n",
    "validation_squamous_data = os.listdir(validation_squamous_dir)\n",
    "validation_squamous_labels = [\"squamous\" for _ in range(len(validation_squamous_data))]\n",
    "\n",
    "size = (224,224)\n",
    "\n",
    "base_database_directory = 'images'\n",
    "train_basal_images = []\n",
    "train_basal_metadata = []\n",
    "for file in train_basal_data:\n",
    "    image_directory = os.path.join(train_basal_dir, file)\n",
    "    train_basal_images.extend(load_image(image_directory))\n",
    "\n",
    "    name, _ = file.split('.')\n",
    "    directory = os.path.join(base_database_directory, 'basal', name, f'{name}.json')\n",
    "    with open(directory, 'r') as f:\n",
    "        train_basal_metadata.append(json.load(f)['metadata']['clinical'])\n",
    "        \n",
    "        \n",
    "validation_basal_images = []\n",
    "validation_basal_metadata = []\n",
    "for file in validation_basal_data:\n",
    "    image_directory = os.path.join(validation_basal_dir, file)\n",
    "    validation_basal_images.extend(load_image(image_directory))\n",
    "\n",
    "    name, _ = file.split('.')\n",
    "    directory = os.path.join(base_database_directory, 'basal', name, f'{name}.json')\n",
    "    with open(directory, 'r') as f:\n",
    "        validation_basal_metadata.append(json.load(f)['metadata']['clinical'])\n",
    "        \n",
    "        \n",
    "train_squamous_images = []\n",
    "train_squamous_metadata = []\n",
    "for file in train_squamous_data:\n",
    "    image_directory = os.path.join(train_squamous_dir, file)\n",
    "    train_squamous_images.extend(load_image(image_directory))\n",
    "\n",
    "    name, _ = file.split('.')\n",
    "    directory = os.path.join(base_database_directory, 'squamous', name, f'{name}.json')\n",
    "    with open(directory, 'r') as f:\n",
    "        train_squamous_metadata.append(json.load(f)['metadata']['clinical'])\n",
    "        \n",
    "validation_squamous_images = []\n",
    "validation_squamous_metadata = []\n",
    "for file in validation_squamous_data:\n",
    "    image_directory = os.path.join(validation_squamous_dir, file)\n",
    "    validation_squamous_images.extend(load_image(image_directory))\n",
    "\n",
    "    name, _ = file.split('.')\n",
    "    directory = os.path.join(base_database_directory, 'squamous', name, f'{name}.json')\n",
    "    with open(directory, 'r') as f:\n",
    "        validation_squamous_metadata.append(json.load(f)['metadata']['clinical'])\n",
    "        \n",
    "training_images = np.array(train_basal_images + train_squamous_images, dtype=np.float32)\n",
    "training_metadata = train_basal_metadata + train_squamous_metadata\n",
    "validation_images = np.array(validation_basal_images + validation_squamous_images, dtype=np.float32)\n",
    "validation_metadata = validation_basal_metadata + validation_squamous_metadata"
   ]
  },
  {
   "cell_type": "code",
   "execution_count": 7,
   "id": "883e0646",
   "metadata": {},
   "outputs": [],
   "source": [
    "from tensorflow.keras.utils import to_categorical\n",
    "from sklearn import preprocessing\n",
    "\n",
    "sex_encoder = preprocessing.LabelEncoder()\n",
    "age_encoder = preprocessing.LabelEncoder()\n",
    "position_encoder = preprocessing.LabelEncoder()\n",
    "\n",
    "def extract_metadata(arr, label):\n",
    "    full = []\n",
    "    for data in arr:\n",
    "        try: full.append(str(data[label]))\n",
    "        except: full.append('unknown')\n",
    "    return full\n",
    "\n",
    "train_sex = extract_metadata(training_metadata, 'sex')\n",
    "train_age = extract_metadata(training_metadata, 'age_approx')\n",
    "train_position = extract_metadata(training_metadata, 'anatom_site_general')\n",
    "\n",
    "validation_sex = extract_metadata(validation_metadata, 'sex')\n",
    "validation_age = extract_metadata(validation_metadata, 'age_approx')\n",
    "validation_position = extract_metadata(validation_metadata, 'anatom_site_general')\n",
    "\n",
    "sex_encoder.fit(train_sex + validation_sex + ['unknown'])\n",
    "age_encoder.fit(train_age + validation_age + ['unknown'])\n",
    "position_encoder.fit(train_position + validation_position + ['unknown'])\n",
    "\n",
    "train_sex = to_categorical(sex_encoder.transform(train_sex), len(sex_encoder.classes_))\n",
    "train_age = to_categorical(age_encoder.transform(train_age), len(age_encoder.classes_))\n",
    "train_position = to_categorical(position_encoder.transform(train_position), len(position_encoder.classes_))\n",
    "\n",
    "validation_sex = to_categorical(sex_encoder.transform(validation_sex), len(sex_encoder.classes_))\n",
    "validation_age = to_categorical(age_encoder.transform(validation_age), len(age_encoder.classes_))\n",
    "validation_position = to_categorical(position_encoder.transform(validation_position), len(position_encoder.classes_))"
   ]
  },
  {
   "cell_type": "code",
   "execution_count": 8,
   "id": "193a39c3",
   "metadata": {},
   "outputs": [
    {
     "name": "stdout",
     "output_type": "stream",
     "text": [
      "(1110, 3) (556, 3)\n"
     ]
    }
   ],
   "source": [
    "print(train_sex.shape, validation_sex.shape)"
   ]
  },
  {
   "cell_type": "code",
   "execution_count": 9,
   "id": "768c6721",
   "metadata": {},
   "outputs": [
    {
     "name": "stderr",
     "output_type": "stream",
     "text": [
      "2022-06-28 22:44:45.501296: W tensorflow/stream_executor/platform/default/dso_loader.cc:64] Could not load dynamic library 'libcuda.so.1'; dlerror: libcuda.so.1: cannot open shared object file: No such file or directory\n",
      "2022-06-28 22:44:45.501351: W tensorflow/stream_executor/cuda/cuda_driver.cc:269] failed call to cuInit: UNKNOWN ERROR (303)\n",
      "2022-06-28 22:44:45.501375: I tensorflow/stream_executor/cuda/cuda_diagnostics.cc:156] kernel driver does not appear to be running on this host (DESKTOP-DH62PHK): /proc/driver/nvidia/version does not exist\n",
      "2022-06-28 22:44:45.502689: I tensorflow/core/platform/cpu_feature_guard.cc:151] This TensorFlow binary is optimized with oneAPI Deep Neural Network Library (oneDNN) to use the following CPU instructions in performance-critical operations:  AVX2 FMA\n",
      "To enable them in other operations, rebuild TensorFlow with the appropriate compiler flags.\n"
     ]
    }
   ],
   "source": [
    "from keras import Input, Model\n",
    "from tensorflow.keras.layers import concatenate\n",
    "\n",
    "input_sex = Input(shape=(len(train_sex[0]),))\n",
    "input_age = Input(shape=(len(train_age[0]),))\n",
    "input_position = Input(shape=(len(train_position[0]),))\n",
    "input_image = Input(shape=(224, 224, 3))\n",
    "\n",
    "sex_model = layers.Dense(4, activation=\"relu\")(input_sex)\n",
    "sex_model = layers.Dense(2, activation=\"relu\")(sex_model)\n",
    "sex_model = Model(inputs=input_sex, outputs=sex_model)\n",
    "\n",
    "age_model = layers.Dense(16, activation=\"relu\")(input_age)\n",
    "age_model = layers.Dense(8, activation=\"relu\")(age_model)\n",
    "age_model = layers.Dense(4, activation=\"linear\")(age_model)\n",
    "age_model = Model(inputs=input_age, outputs=age_model)\n",
    "\n",
    "position_model = layers.Dense(4, activation=\"relu\")(input_position)\n",
    "position_model = layers.Dense(2, activation=\"relu\")(position_model)\n",
    "position_model = Model(inputs=input_position, outputs=position_model)\n",
    "\n",
    "image_model = layers.Conv2D(32, (3, 3), activation='relu', input_shape=(224, 224, 3))(input_image)\n",
    "image_model = layers.MaxPooling2D((2, 2))(image_model)\n",
    "image_model = layers.Conv2D(64, (3, 3), activation='relu')(image_model)\n",
    "image_model = layers.MaxPooling2D((2, 2))(image_model)\n",
    "image_model = layers.Conv2D(128, (3, 3), activation='relu')(image_model)\n",
    "image_model = layers.MaxPooling2D((2, 2))(image_model)\n",
    "image_model = layers.Conv2D(256, (3, 3), activation='relu')(image_model)\n",
    "image_model = layers.MaxPooling2D((2, 2))(image_model)\n",
    "image_model = layers.Flatten()(image_model)\n",
    "image_model = Model(inputs=input_image, outputs=image_model)\n",
    "\n",
    "combined = concatenate([sex_model.output, age_model.output, position_model.output, image_model.output])\n",
    "\n",
    "model = layers.Dense(512, activation='relu')(combined)\n",
    "model = layers.Dropout(0.5)(model)\n",
    "model = layers.Dense(1, activation='sigmoid')(model)\n",
    "model = Model(inputs=[sex_model.input, age_model.input, position_model.input, image_model.input], \n",
    "              outputs=model)\n",
    "model.compile(loss='binary_crossentropy',optimizer=optimizers.RMSprop(learning_rate=1e-4), metrics=['acc'])"
   ]
  },
  {
   "cell_type": "code",
   "execution_count": 10,
   "id": "35a5466c",
   "metadata": {},
   "outputs": [
    {
     "name": "stdout",
     "output_type": "stream",
     "text": [
      "Model: \"model_4\"\n",
      "__________________________________________________________________________________________________\n",
      " Layer (type)                   Output Shape         Param #     Connected to                     \n",
      "==================================================================================================\n",
      " input_4 (InputLayer)           [(None, 224, 224, 3  0           []                               \n",
      "                                )]                                                                \n",
      "                                                                                                  \n",
      " conv2d (Conv2D)                (None, 222, 222, 32  896         ['input_4[0][0]']                \n",
      "                                )                                                                 \n",
      "                                                                                                  \n",
      " max_pooling2d (MaxPooling2D)   (None, 111, 111, 32  0           ['conv2d[0][0]']                 \n",
      "                                )                                                                 \n",
      "                                                                                                  \n",
      " conv2d_1 (Conv2D)              (None, 109, 109, 64  18496       ['max_pooling2d[0][0]']          \n",
      "                                )                                                                 \n",
      "                                                                                                  \n",
      " max_pooling2d_1 (MaxPooling2D)  (None, 54, 54, 64)  0           ['conv2d_1[0][0]']               \n",
      "                                                                                                  \n",
      " conv2d_2 (Conv2D)              (None, 52, 52, 128)  73856       ['max_pooling2d_1[0][0]']        \n",
      "                                                                                                  \n",
      " input_2 (InputLayer)           [(None, 15)]         0           []                               \n",
      "                                                                                                  \n",
      " max_pooling2d_2 (MaxPooling2D)  (None, 26, 26, 128)  0          ['conv2d_2[0][0]']               \n",
      "                                                                                                  \n",
      " input_1 (InputLayer)           [(None, 3)]          0           []                               \n",
      "                                                                                                  \n",
      " dense_2 (Dense)                (None, 16)           256         ['input_2[0][0]']                \n",
      "                                                                                                  \n",
      " input_3 (InputLayer)           [(None, 7)]          0           []                               \n",
      "                                                                                                  \n",
      " conv2d_3 (Conv2D)              (None, 24, 24, 256)  295168      ['max_pooling2d_2[0][0]']        \n",
      "                                                                                                  \n",
      " dense (Dense)                  (None, 4)            16          ['input_1[0][0]']                \n",
      "                                                                                                  \n",
      " dense_3 (Dense)                (None, 8)            136         ['dense_2[0][0]']                \n",
      "                                                                                                  \n",
      " dense_5 (Dense)                (None, 4)            32          ['input_3[0][0]']                \n",
      "                                                                                                  \n",
      " max_pooling2d_3 (MaxPooling2D)  (None, 12, 12, 256)  0          ['conv2d_3[0][0]']               \n",
      "                                                                                                  \n",
      " dense_1 (Dense)                (None, 2)            10          ['dense[0][0]']                  \n",
      "                                                                                                  \n",
      " dense_4 (Dense)                (None, 4)            36          ['dense_3[0][0]']                \n",
      "                                                                                                  \n",
      " dense_6 (Dense)                (None, 2)            10          ['dense_5[0][0]']                \n",
      "                                                                                                  \n",
      " flatten (Flatten)              (None, 36864)        0           ['max_pooling2d_3[0][0]']        \n",
      "                                                                                                  \n",
      " concatenate (Concatenate)      (None, 36872)        0           ['dense_1[0][0]',                \n",
      "                                                                  'dense_4[0][0]',                \n",
      "                                                                  'dense_6[0][0]',                \n",
      "                                                                  'flatten[0][0]']                \n",
      "                                                                                                  \n",
      " dense_7 (Dense)                (None, 512)          18878976    ['concatenate[0][0]']            \n",
      "                                                                                                  \n",
      " dropout (Dropout)              (None, 512)          0           ['dense_7[0][0]']                \n",
      "                                                                                                  \n",
      " dense_8 (Dense)                (None, 1)            513         ['dropout[0][0]']                \n",
      "                                                                                                  \n",
      "==================================================================================================\n",
      "Total params: 19,268,401\n",
      "Trainable params: 19,268,401\n",
      "Non-trainable params: 0\n",
      "__________________________________________________________________________________________________\n"
     ]
    }
   ],
   "source": [
    "model.summary()"
   ]
  },
  {
   "cell_type": "code",
   "execution_count": 11,
   "id": "50eebb79",
   "metadata": {},
   "outputs": [],
   "source": [
    "train_labels = train_basal_labels + train_squamous_labels\n",
    "validation_labels = validation_basal_labels + validation_squamous_labels\n",
    "\n",
    "train_labels = np.array([0 if label == 'basal' else 1 for label in train_labels], dtype=np.float32)\n",
    "validation_labels = np.array([0 if label == 'basal' else 1 for label in validation_labels], dtype=np.float32)\n",
    "training_images = np.array(training_images)\n",
    "validation_images = np.array(validation_images)"
   ]
  },
  {
   "cell_type": "code",
   "execution_count": 12,
   "id": "8496a2c6",
   "metadata": {},
   "outputs": [
    {
     "name": "stdout",
     "output_type": "stream",
     "text": [
      "(1110, 3) (556, 3)\n",
      "(1110, 15) (556, 15)\n",
      "(1110, 7) (556, 7)\n",
      "(1110, 224, 224, 3) (556, 224, 224, 3)\n",
      "(1110,) (556,)\n"
     ]
    }
   ],
   "source": [
    "print(train_sex.shape, validation_sex.shape)\n",
    "print(train_age.shape, validation_age.shape)\n",
    "print(train_position.shape, validation_position.shape)\n",
    "print(training_images.shape, validation_images.shape)\n",
    "print(train_labels.shape, validation_labels.shape)\n"
   ]
  },
  {
   "cell_type": "code",
   "execution_count": 13,
   "id": "8e5ec21b",
   "metadata": {},
   "outputs": [
    {
     "name": "stdout",
     "output_type": "stream",
     "text": [
      "Epoch 1/20\n",
      "35/35 [==============================] - 96s 3s/step - loss: 0.6309 - acc: 0.6820 - val_loss: 0.6352 - val_acc: 0.6960\n",
      "Epoch 2/20\n",
      "35/35 [==============================] - 90s 3s/step - loss: 0.6191 - acc: 0.6964 - val_loss: 0.6233 - val_acc: 0.6960\n",
      "Epoch 3/20\n",
      "35/35 [==============================] - 92s 3s/step - loss: 0.6060 - acc: 0.6964 - val_loss: 0.6388 - val_acc: 0.6960\n",
      "Epoch 4/20\n",
      "35/35 [==============================] - 97s 3s/step - loss: 0.6072 - acc: 0.6964 - val_loss: 0.6258 - val_acc: 0.6960\n",
      "Epoch 5/20\n",
      "35/35 [==============================] - 93s 3s/step - loss: 0.5928 - acc: 0.6964 - val_loss: 0.6328 - val_acc: 0.6960\n",
      "Epoch 6/20\n",
      "35/35 [==============================] - 91s 3s/step - loss: 0.6022 - acc: 0.6991 - val_loss: 0.6287 - val_acc: 0.6960\n",
      "Epoch 7/20\n",
      "35/35 [==============================] - 94s 3s/step - loss: 0.5850 - acc: 0.6946 - val_loss: 0.6189 - val_acc: 0.6942\n",
      "Epoch 8/20\n",
      "35/35 [==============================] - 94s 3s/step - loss: 0.5797 - acc: 0.7027 - val_loss: 0.6374 - val_acc: 0.6799\n",
      "Epoch 9/20\n",
      "35/35 [==============================] - 98s 3s/step - loss: 0.5795 - acc: 0.7018 - val_loss: 0.6259 - val_acc: 0.6853\n",
      "Epoch 10/20\n",
      "35/35 [==============================] - 94s 3s/step - loss: 0.5592 - acc: 0.7234 - val_loss: 0.6254 - val_acc: 0.6942\n",
      "Epoch 11/20\n",
      "35/35 [==============================] - 93s 3s/step - loss: 0.5556 - acc: 0.7126 - val_loss: 0.6440 - val_acc: 0.6781\n",
      "Epoch 12/20\n",
      "35/35 [==============================] - 91s 3s/step - loss: 0.5516 - acc: 0.7288 - val_loss: 0.6286 - val_acc: 0.6853\n",
      "Epoch 13/20\n",
      "35/35 [==============================] - 97s 3s/step - loss: 0.5329 - acc: 0.7414 - val_loss: 0.6036 - val_acc: 0.6853\n",
      "Epoch 14/20\n",
      "35/35 [==============================] - 94s 3s/step - loss: 0.5238 - acc: 0.7369 - val_loss: 0.6054 - val_acc: 0.6853\n",
      "Epoch 15/20\n",
      "35/35 [==============================] - 93s 3s/step - loss: 0.5264 - acc: 0.7432 - val_loss: 0.6020 - val_acc: 0.6906\n",
      "Epoch 16/20\n",
      "35/35 [==============================] - 94s 3s/step - loss: 0.5080 - acc: 0.7550 - val_loss: 0.6173 - val_acc: 0.6709\n",
      "Epoch 17/20\n",
      "35/35 [==============================] - 95s 3s/step - loss: 0.4914 - acc: 0.7649 - val_loss: 0.6384 - val_acc: 0.6942\n",
      "Epoch 18/20\n",
      "35/35 [==============================] - 92s 3s/step - loss: 0.4852 - acc: 0.7712 - val_loss: 0.6032 - val_acc: 0.6924\n",
      "Epoch 19/20\n",
      "35/35 [==============================] - 92s 3s/step - loss: 0.4682 - acc: 0.7784 - val_loss: 0.6506 - val_acc: 0.6295\n",
      "Epoch 20/20\n",
      "35/35 [==============================] - 90s 3s/step - loss: 0.4691 - acc: 0.7757 - val_loss: 0.6325 - val_acc: 0.7068\n"
     ]
    }
   ],
   "source": [
    "history = model.fit(x = [train_sex, train_age, train_position, training_images], \n",
    "                    y = train_labels,\n",
    "                    epochs=20,\n",
    "                    validation_data=([validation_sex,validation_age, validation_position, validation_images], \n",
    "                                     validation_labels))"
   ]
  },
  {
   "cell_type": "code",
   "execution_count": 17,
   "id": "25839bff",
   "metadata": {},
   "outputs": [
    {
     "data": {
      "image/png": "[encoded data removed]",
      "text/plain": [
       "<Figure size 432x288 with 1 Axes>"
      ]
     },
     "metadata": {
      "needs_background": "light"
     },
     "output_type": "display_data"
    },
    {
     "data": {
      "image/png": "[encoded data removed]",
      "text/plain": [
       "<Figure size 432x288 with 1 Axes>"
      ]
     },
     "metadata": {
      "needs_background": "light"
     },
     "output_type": "display_data"
    }
   ],
   "source": [
    "plot_graphs(history.history)"
   ]
  },
  {
   "cell_type": "code",
   "execution_count": 15,
   "id": "9af32685",
   "metadata": {},
   "outputs": [
    {
     "name": "stdout",
     "output_type": "stream",
     "text": [
      "18/18 [==============================] - 10s 564ms/step - loss: 0.9457 - acc: 0.6547\n",
      "test loss: 0.945695161819458\n",
      "test acc: 0.6546762585639954\n"
     ]
    }
   ],
   "source": [
    "test_basal_dir = os.path.join(test_dir, 'basal')\n",
    "test_basal_data = os.listdir(test_basal_dir)\n",
    "test_basal_labels = [\"basal\" for _ in range(len(test_basal_data))]\n",
    "\n",
    "test_squamous_dir = os.path.join(test_dir, 'squamous')\n",
    "test_squamous_data = os.listdir(test_squamous_dir)\n",
    "test_squamous_labels = [\"squamous\" for _ in range(len(test_squamous_data))]\n",
    "\n",
    "test_basal_images = []\n",
    "test_basal_metadata = []\n",
    "for file in test_basal_data:\n",
    "    image_directory = os.path.join(test_basal_dir, file)\n",
    "    test_basal_images.extend(load_image(image_directory))\n",
    "\n",
    "    name, _ = file.split('.')\n",
    "    directory = os.path.join(base_database_directory, 'basal', name, f'{name}.json')\n",
    "    with open(directory, 'r') as f:\n",
    "        test_basal_metadata.append(json.load(f)['metadata']['clinical'])\n",
    "        \n",
    "        \n",
    "test_squamous_images = []\n",
    "test_squamous_metadata = []\n",
    "for file in test_squamous_data:\n",
    "    test_directory = os.path.join(test_squamous_dir, file)\n",
    "    test_squamous_images.extend(load_image(image_directory))\n",
    "\n",
    "    name, _ = file.split('.')\n",
    "    directory = os.path.join(base_database_directory, 'squamous', name, f'{name}.json')\n",
    "    with open(directory, 'r') as f:\n",
    "        test_squamous_metadata.append(json.load(f)['metadata']['clinical'])\n",
    "        \n",
    "test_images = np.array(test_basal_images + test_squamous_images, dtype=np.float32)\n",
    "test_metadata = test_basal_metadata + test_squamous_metadata\n",
    "\n",
    "test_sex = extract_metadata(test_metadata, 'sex')\n",
    "test_age = extract_metadata(test_metadata, 'age_approx')\n",
    "test_position = extract_metadata(test_metadata, 'anatom_site_general')\n",
    "\n",
    "test_sex = to_categorical(sex_encoder.transform(test_sex), len(sex_encoder.classes_))\n",
    "test_age = to_categorical(age_encoder.transform(test_age), len(age_encoder.classes_))\n",
    "test_position = to_categorical(position_encoder.transform(test_position), len(position_encoder.classes_))\n",
    "\n",
    "test_labels = test_basal_labels + test_squamous_labels\n",
    "test_labels = np.array([0 if label == 'basal' else 1 for label in test_labels], dtype=np.float32)\n",
    "\n",
    "test_loss, test_acc = model.evaluate([test_sex, test_age, test_position, test_images], test_labels)\n",
    "print('test loss:', test_loss)\n",
    "print('test acc:', test_acc)"
   ]
  },
  {
   "cell_type": "code",
   "execution_count": 14,
   "id": "69970895",
   "metadata": {},
   "outputs": [],
   "source": [
    "save_dict_as_json(history.history, \"cancer_classification_metadata_history\")\n",
    "model.save(\"cancer_classification_metadata.h5\")"
   ]
  },
  {
   "cell_type": "code",
   "execution_count": null,
   "id": "7a1b1c7d",
   "metadata": {},
   "outputs": [],
   "source": []
  }
 ],
 "metadata": {
  "kernelspec": {
   "display_name": "Python 3 (ipykernel)",
   "language": "python",
   "name": "python3"
  },
  "language_info": {
   "codemirror_mode": {
    "name": "ipython",
    "version": 3
   },
   "file_extension": ".py",
   "mimetype": "text/x-python",
   "name": "python",
   "nbconvert_exporter": "python",
   "pygments_lexer": "ipython3",
   "version": "3.8.10"
  }
 },
 "nbformat": 4,
 "nbformat_minor": 5
}
